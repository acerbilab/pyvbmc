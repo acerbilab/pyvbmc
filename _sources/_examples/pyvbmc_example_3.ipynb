{
 "cells": [
  {
   "cell_type": "markdown",
   "metadata": {},
   "source": [
    "# Example 3: Extended usage and output diagnostics"
   ]
  },
  {
   "cell_type": "markdown",
   "metadata": {},
   "source": [
    "In this notebook, we demonstrate extended usage of PyVBMC. We will take a brief look at PyVBMC's diagnostic output, and show you how to save the results of optimization to disk.\n",
    "\n",
    "This notebook is Part 3 of a series of notebooks in which we present various example usages for VBMC with the PyVBMC package."
   ]
  },
  {
   "cell_type": "code",
   "execution_count": 2,
   "metadata": {},
   "outputs": [],
   "source": [
    "import numpy as np\n",
    "import scipy.stats as scs\n",
    "from scipy.optimize import minimize\n",
    "from pyvbmc.vbmc import VBMC\n",
    "from pyvbmc.formatting import format_dict\n",
    "import dill"
   ]
  },
  {
   "cell_type": "markdown",
   "metadata": {},
   "source": [
    "## 1. Model definition and setup\n",
    "\n",
    "For demonstration purposes, we will run PyVBMC with a restricted budget of function evaluations, insufficient to achieve convergence. Then we will inspect the output diagnostics, and resume optimization.\n",
    "\n",
    "We use a higher-dimensional analogue of the same toy target function in Example 1, a broad [Rosenbrock's banana function](https://en.wikipedia.org/wiki/Rosenbrock_function) in $D = 4$."
   ]
  },
  {
   "cell_type": "code",
   "execution_count": 3,
   "metadata": {},
   "outputs": [],
   "source": [
    "D = 4  # A four-dimensional problem\n",
    "prior_mu = np.zeros(D)\n",
    "prior_var = 3 * np.ones(D)\n",
    "\n",
    "\n",
    "def log_prior(theta):\n",
    "    \"\"\"Multivariate normal prior on theta.\"\"\"\n",
    "    cov = np.diag(prior_var)\n",
    "    return scs.multivariate_normal(prior_mu, cov).logpdf(theta)"
   ]
  },
  {
   "cell_type": "markdown",
   "metadata": {},
   "source": [
    "The likelihood function of your model will in general depend on the observed data. This data can be fixed as a global variable, as we did directly above for `prior_mu` and `prior_var`. It can also be defined by a default second argument: to `pyvbmc` there is no difference so long as the function can be called with only a single argument (the parameters `theta`):"
   ]
  },
  {
   "cell_type": "code",
   "execution_count": 4,
   "metadata": {},
   "outputs": [],
   "source": [
    "def log_likelihood(theta, data=np.ones(D)):\n",
    "    \"\"\"D-dimensional Rosenbrock's banana function.\"\"\"\n",
    "    # In this simple demo the data just translates the parameters:\n",
    "    theta = np.atleast_2d(theta)\n",
    "    theta = theta + data\n",
    "\n",
    "    x, y = theta[:, :-1], theta[:, 1:]\n",
    "    return -np.sum((x**2 - y) ** 2 + (x - 1) ** 2 / 100, axis=1)\n",
    "\n",
    "\n",
    "def log_joint(theta, data=np.ones(D)):\n",
    "    \"\"\"log-density of the joint distribution.\"\"\"\n",
    "    return log_likelihood(theta, data) + log_prior(theta)"
   ]
  },
  {
   "cell_type": "code",
   "execution_count": 5,
   "metadata": {},
   "outputs": [],
   "source": [
    "LB = np.full(D, -np.inf)  # Lower bounds\n",
    "UB = np.full(D, np.inf)  # Upper bounds\n",
    "PLB = np.full(D, prior_mu - np.sqrt(prior_var))  # Plausible lower bounds\n",
    "PUB = np.full(D, prior_mu + np.sqrt(prior_var))  # Plausible upper bounds"
   ]
  },
  {
   "cell_type": "markdown",
   "metadata": {},
   "source": [
    "In a typical inference scenario, we recommend starting from a \"good\" point (i.e. one near the mode). We can run a  quick preliminary optimization, though a more extensive optimization would not harm."
   ]
  },
  {
   "cell_type": "code",
   "execution_count": 6,
   "metadata": {},
   "outputs": [],
   "source": [
    "np.random.seed(41)\n",
    "x0 = np.random.uniform(PLB, PUB)  # Random point inside plausible box\n",
    "x0 = minimize(\n",
    "    lambda t: -log_joint(t),\n",
    "    x0,\n",
    "    bounds=[\n",
    "        (-np.inf, np.inf),\n",
    "        (-np.inf, np.inf),\n",
    "        (-np.inf, np.inf),\n",
    "        (-np.inf, np.inf),\n",
    "    ],\n",
    ").x\n",
    "np.random.seed(42)"
   ]
  },
  {
   "cell_type": "code",
   "execution_count": 7,
   "metadata": {},
   "outputs": [
    {
     "name": "stdout",
     "output_type": "stream",
     "text": [
      "Reshaping x0 to row vector.\n",
      "Reshaping lower bounds to (1, 4).\n",
      "Reshaping upper bounds to (1, 4).\n",
      "Reshaping plausible lower bounds to (1, 4).\n",
      "Reshaping plausible upper bounds to (1, 4).\n"
     ]
    }
   ],
   "source": [
    "# Limit number of function evaluations\n",
    "options = {\n",
    "    \"max_fun_evals\": 10 * D,\n",
    "}\n",
    "# We can specify either the log-joint, or the log-likelihood and log-prior.\n",
    "# In other words, the following lines are equivalent:\n",
    "vbmc = VBMC(\n",
    "    log_likelihood,\n",
    "    x0,\n",
    "    LB,\n",
    "    UB,\n",
    "    PLB,\n",
    "    PUB,\n",
    "    options=options,\n",
    "    log_prior=log_prior,\n",
    ")\n",
    "# vbmc = VBMC(\n",
    "#     log_joint,\n",
    "#     x0, LB, UB, PLB, PUB, user_options=options,\n",
    "# )"
   ]
  },
  {
   "cell_type": "markdown",
   "metadata": {},
   "source": [
    "(PyVBMC expects the bounds to be `(1, D)` row vectors, and the initial point(s) to be of shape `(n, D)`, but it will accept and re-shape vectors of shape `(D,)` as well.)\n",
    "\n",
    "## 2. Running the model and checking convergence diagnostics\n",
    "\n",
    "Now we run PyVBMC with a very small budget of 40 function evaluations:"
   ]
  },
  {
   "cell_type": "code",
   "execution_count": 8,
   "metadata": {
    "tags": []
   },
   "outputs": [
    {
     "name": "stdout",
     "output_type": "stream",
     "text": [
      "Beginning variational optimization assuming EXACT observations of the log-joint.\n",
      " Iteration  f-count    Mean[ELBO]    Std[ELBO]    sKL-iter[q]   K[q]  Convergence  Action\n",
      "     0         10          -3.72         2.61    319790.86        2        inf     start warm-up\n",
      "     1         15          -3.96         1.53        12.50        2        inf     \n",
      "     2         20          -4.11         2.33         0.37        2       14.5     \n",
      "     3         25          -4.83         1.20        12.01        2        206     \n",
      "     4         30          -4.29         0.89         4.10        2         73     \n",
      "     5         35          -5.91         1.54         8.47        2        152     \n",
      "     6         40          -2.24         2.92         4.45        2       96.1     \n",
      "   inf         40          -4.81         2.33         1.07       50        152     finalize\n",
      "Inference terminated: reached maximum number of function evaluations options.max_fun_evals.\n",
      "Estimated ELBO: -4.807 +/-2.330.\n",
      "Caution: Returned variational solution may have not converged.\n"
     ]
    }
   ],
   "source": [
    "vp, elbo, elbo_sd, success_flag, info = vbmc.optimize()"
   ]
  },
  {
   "cell_type": "markdown",
   "metadata": {},
   "source": [
    "PyVBMC is warning us that convergence is doubtful. We can look at the output for more information and diagnostics."
   ]
  },
  {
   "cell_type": "code",
   "execution_count": 9,
   "metadata": {},
   "outputs": [
    {
     "name": "stdout",
     "output_type": "stream",
     "text": [
      "False\n"
     ]
    }
   ],
   "source": [
    "print(success_flag)"
   ]
  },
  {
   "cell_type": "markdown",
   "metadata": {},
   "source": [
    "`False` means that PyVBMC has not converged to a stable solution within the given number of function evaluations."
   ]
  },
  {
   "cell_type": "code",
   "execution_count": 10,
   "metadata": {},
   "outputs": [
    {
     "name": "stdout",
     "output_type": "stream",
     "text": [
      "{\n",
      "    'function': '<function VBMC.__init__.<locals>.log_joint at 0x1507b3280>',\n",
      "    'problem_type': 'unconstrained',\n",
      "    'iterations': 6,\n",
      "    'func_count': 40,\n",
      "    'best_iter': 5,\n",
      "    'train_set_size': 35,\n",
      "    'components': 50,\n",
      "    'r_index': 151.75094234172184,\n",
      "    'convergence_status': 'no',\n",
      "    'overhead': nan,\n",
      "    'rng_state': 'rng',\n",
      "    'algorithm': 'Variational Bayesian Monte Carlo',\n",
      "    'version': '0.1.0',\n",
      "    'message': 'Inference terminated: reached maximum number of function evaluations options.max_fun_evals.',\n",
      "    'elbo': -4.8065010675165105,\n",
      "    'elbo_sd': 2.329618254554614,\n",
      "}\n"
     ]
    }
   ],
   "source": [
    "print(format_dict(info))"
   ]
  },
  {
   "cell_type": "markdown",
   "metadata": {},
   "source": [
    "In the `info` dictionary:\n",
    "- the `convergence_status` field says 'no' (probable lack of convergence);\n",
    "- the reliability index `r_index` is 3.68, (should be less than 1).\n",
    "Our diagnostics tell us that this run has not converged, suggesting to increase the budget.\n",
    "\n",
    "Note that convergence to a solution does not mean that it is a _good_ solution. You should always check the returned variational posteriors, and ideally should compare across multiple runs of PyVBMC."
   ]
  },
  {
   "cell_type": "markdown",
   "metadata": {},
   "source": [
    "## 3. Saving results\n",
    "\n",
    "We can also save the `VBMC` instance to disk and reload it later, in order to check the results and convergence diagnostics, sample from the posterior, or resume the optimization from checkpoint etc. If you are only interested in the final (best) variational solution, as opposed to the full iteration history of the optimization, then you may wish to pickle only the final `VariationalPosterior` instead."
   ]
  },
  {
   "cell_type": "code",
   "execution_count": 11,
   "metadata": {},
   "outputs": [],
   "source": [
    "with open(\"vbmc_test_save.pkl\", \"wb\") as f:\n",
    "    dill.dump(vbmc, f)\n",
    "\n",
    "with open(\"vbmc_test_save.pkl\", \"rb\") as f:\n",
    "    vbmc = dill.load(f)"
   ]
  },
  {
   "cell_type": "markdown",
   "metadata": {},
   "source": [
    "## 4. Resume the optimization process"
   ]
  },
  {
   "cell_type": "markdown",
   "metadata": {},
   "source": [
    "Now we could resume the optimization process of PyVBMC by increasing maximum number of function evaluations. This default is $50(d+2)$, where $d$ is the dimension of the parameter space (though this example will not use the full budget):"
   ]
  },
  {
   "cell_type": "code",
   "execution_count": 12,
   "metadata": {},
   "outputs": [],
   "source": [
    "iteration = vbmc.iteration  # continue from specified iteration, here it's the last iteration\n",
    "assert 1 <= iteration <= vbmc.iteration\n",
    "\n",
    "## Set states for VBMC right before the specified iteration\n",
    "vbmc.gp = vbmc.iteration_history[\"gp\"][iteration - 1]\n",
    "vbmc.vp = vbmc.iteration_history[\"vp\"][iteration - 1]\n",
    "vbmc.function_logger = vbmc.iteration_history[\n",
    "    \"function_logger\"\n",
    "][iteration - 1]\n",
    "vbmc.optim_state = vbmc.iteration_history[\"optim_state\"][\n",
    "    iteration - 1\n",
    "]\n",
    "vbmc.hyp_dict = vbmc.optim_state[\"hyp_dict\"]\n",
    "vbmc.iteration = iteration - 1\n",
    "\n",
    "for k, v in vbmc.iteration_history.items():\n",
    "    try:\n",
    "        vbmc.iteration_history[k] = vbmc.iteration_history[k][\n",
    "            :iteration\n",
    "        ]\n",
    "    except TypeError:\n",
    "        pass\n",
    "# (Optionally) Set random state for reproducibility, note that it can only \n",
    "# reproduce exactly the same optimization process when VBMC's options are not updated\n",
    "random_state = vbmc.iteration_history[\"random_state\"][\n",
    "                    iteration - 1\n",
    "                ]\n",
    "np.random.set_state(random_state)"
   ]
  },
  {
   "cell_type": "markdown",
   "metadata": {},
   "source": [
    "We need to update the options. Here we increase `max_fun_evals` and resume the optimization process."
   ]
  },
  {
   "cell_type": "code",
   "execution_count": 13,
   "metadata": {},
   "outputs": [
    {
     "name": "stdout",
     "output_type": "stream",
     "text": [
      "Beginning variational optimization assuming EXACT observations of the log-joint.\n",
      " Iteration  f-count    Mean[ELBO]    Std[ELBO]    sKL-iter[q]   K[q]  Convergence  Action\n",
      "     6         40          -0.50         4.37         7.81        2        163     \n",
      "     7         45          -4.84         0.10        11.94        2        214     \n",
      "     8         50          -4.71         0.04         0.07        2       1.71     \n",
      "     9         55          -4.66         0.02         0.04        2       0.88     \n",
      "    10         60          -4.62         0.01         0.02        2      0.501     end warm-up\n",
      "    11         65          -4.58         0.02         0.05        2       1.02     \n",
      "    12         70          -4.57         0.01         0.02        2      0.379     \n",
      "    13         75          -4.50         0.01         0.04        5      0.908     \n",
      "    14         80          -4.37         0.00         0.07        8       1.54     rotoscale, undo rotoscale\n",
      "    15         85          -4.28         0.00         0.07        9        1.4     \n",
      "    16         90          -4.28         0.00         0.01       10      0.135     \n",
      "    17         95          -4.26         0.00         0.00       13     0.0765     \n",
      "    18        100          -4.23         0.00         0.00       16      0.164     \n",
      "    19        105          -4.21         0.00         0.00       19      0.135     \n",
      "    20        110          -4.19         0.00         0.00       22     0.0919     \n",
      "    21        115          -4.19         0.00         0.00       22      0.038     \n",
      "    22        120          -4.18         0.00         0.00       21     0.0737     \n",
      "    23        125          -4.18         0.00         0.00       21     0.0313     stable\n",
      "   inf        125          -4.12         0.00         0.01       50     0.0313     finalize\n",
      "Inference terminated: variational solution stable for options.tol_stable_count fcn evaluations.\n",
      "Estimated ELBO: -4.118 +/-0.001.\n"
     ]
    }
   ],
   "source": [
    "options = {\n",
    "    \"max_fun_evals\": 50 * (D+2),\n",
    "}\n",
    "vbmc.options.is_initialized = False  # Temporarily set to False for updating options\n",
    "vbmc.options.update(options)\n",
    "vbmc.options.is_initialized = True\n",
    "\n",
    "vbmc.is_finished = False\n",
    "vp, elbo, elbo_sd, success_flag, info = vbmc.optimize()"
   ]
  },
  {
   "cell_type": "code",
   "execution_count": 14,
   "metadata": {},
   "outputs": [
    {
     "name": "stdout",
     "output_type": "stream",
     "text": [
      "{\n",
      "    'function': '<function VBMC.__init__.<locals>.log_joint at 0x1507735e0>',\n",
      "    'problem_type': 'unconstrained',\n",
      "    'iterations': 23,\n",
      "    'func_count': 125,\n",
      "    'best_iter': 23,\n",
      "    'train_set_size': 122,\n",
      "    'components': 50,\n",
      "    'r_index': 0.031330287656699755,\n",
      "    'convergence_status': 'probable',\n",
      "    'overhead': nan,\n",
      "    'rng_state': 'rng',\n",
      "    'algorithm': 'Variational Bayesian Monte Carlo',\n",
      "    'version': '0.1.0',\n",
      "    'message': 'Inference terminated: variational solution stable for options.tol_stable_count fcn evaluations.',\n",
      "    'elbo': -4.117721331713407,\n",
      "    'elbo_sd': 0.0011513438533648059,\n",
      "}\n"
     ]
    }
   ],
   "source": [
    "print(format_dict(info))"
   ]
  },
  {
   "cell_type": "markdown",
   "metadata": {},
   "source": [
    "With the default budget of function evaluations, we can see that the `convergence_status` is 'probable' and the `r_index` is much less than 1, suggesting convergence has been acheived. We can save the result to file and load it at anytime for verification etc."
   ]
  },
  {
   "cell_type": "code",
   "execution_count": 14,
   "metadata": {},
   "outputs": [
    {
     "name": "stdout",
     "output_type": "stream",
     "text": [
      "[[-0.38232762 -0.57451283 -0.01202702  1.00881978]\n",
      " [-0.13825953  0.58691027  0.97214509  2.10049461]\n",
      " [-0.25420183 -0.55995149 -0.9688158  -1.25871633]\n",
      " [-0.68187614  0.04510994 -0.05127354 -0.08940267]\n",
      " [-1.33565096 -1.99922658  0.30049789  0.76330246]]\n",
      "[ 5  6 14  4 24]\n"
     ]
    }
   ],
   "source": [
    "with open(\"vbmc_test_save.pkl\", \"wb\") as f:\n",
    "    dill.dump(vbmc, f)\n",
    "\n",
    "with open(\"vbmc_test_save.pkl\", \"rb\") as f:\n",
    "    vbmc = dill.load(f)\n",
    "    \n",
    "samples, components = vbmc.vp.sample(5)\n",
    "# `samples` are samples drawn from the variational posterior.\n",
    "# `components` are the index of the mixture components each\n",
    "#  sample was drawn from.\n",
    "print(samples)\n",
    "print(components)"
   ]
  },
  {
   "cell_type": "markdown",
   "metadata": {},
   "source": [
    "## 5. Conclusions\n",
    "\n",
    "In this notebook, we have given a brief overview of PyVBMC's output diagnostics, and shown how to save and load results and resume optimization from a specific iteration.\n",
    "\n",
    "In the next notebook, we will illustrate running PyVBMC multiple times in order to validate the results."
   ]
  },
  {
   "cell_type": "markdown",
   "metadata": {},
   "source": [
    "## Acknowledgments\n",
    "\n",
    "Work on the PyVBMC package was funded by the [Finnish Center for Artificial Intelligence FCAI](https://fcai.fi/)."
   ]
  }
 ],
 "metadata": {
  "interpreter": {
   "hash": "cf2c3e35bb9d622e963fe7adafe5d3d77a0ee2382f730f35475e9a620896d84b"
  },
  "kernelspec": {
   "display_name": "py39_forge",
   "language": "python",
   "name": "py39_forge"
  },
  "language_info": {
   "codemirror_mode": {
    "name": "ipython",
    "version": 3
   },
   "file_extension": ".py",
   "mimetype": "text/x-python",
   "name": "python",
   "nbconvert_exporter": "python",
   "pygments_lexer": "ipython3",
   "version": "3.9.9"
  }
 },
 "nbformat": 4,
 "nbformat_minor": 4
}
