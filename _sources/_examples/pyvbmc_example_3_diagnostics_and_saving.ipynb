{
 "cells": [
  {
   "cell_type": "markdown",
   "metadata": {},
   "source": [
    "# PyVBMC Example 3: Output diagnostics and saving results"
   ]
  },
  {
   "cell_type": "markdown",
   "metadata": {},
   "source": [
    "In this notebook, we demonstrate extended usage of PyVBMC. We will take a brief look at PyVBMC's diagnostic output, and show you how to save the results of optimization to disk.\n",
    "\n",
    "This notebook is Part 3 of a series of notebooks in which we present various example usages for VBMC with the PyVBMC package. The code used in this example is available as a script [here](https://github.com/acerbilab/pyvbmc/blob/main/examples/pyvbmc_example_3_full_code.py)."
   ]
  },
  {
   "cell_type": "code",
   "execution_count": 1,
   "metadata": {},
   "outputs": [],
   "source": [
    "import numpy as np\n",
    "import scipy.stats as scs\n",
    "from scipy.optimize import minimize\n",
    "from pyvbmc import VBMC\n",
    "from pyvbmc.formatting import format_dict\n",
    "import dill"
   ]
  },
  {
   "cell_type": "markdown",
   "metadata": {},
   "source": [
    "## 1. Model definition and setup\n",
    "\n",
    "For demonstration purposes, we will run PyVBMC with a restricted budget of function evaluations, insufficient to achieve convergence. Then we will inspect the output diagnostics, and resume optimization.\n",
    "\n",
    "We use a higher-dimensional analogue of the same toy target function in Example 1, a broad [Rosenbrock's banana function](https://en.wikipedia.org/wiki/Rosenbrock_function) in $D = 4$."
   ]
  },
  {
   "cell_type": "code",
   "execution_count": 2,
   "metadata": {},
   "outputs": [],
   "source": [
    "D = 4  # A four-dimensional problem\n",
    "prior_mu = np.zeros(D)\n",
    "prior_var = 3 * np.ones(D)\n",
    "\n",
    "\n",
    "def log_prior(theta):\n",
    "    \"\"\"Multivariate normal prior on theta.\"\"\"\n",
    "    cov = np.diag(prior_var)\n",
    "    return scs.multivariate_normal(prior_mu, cov).logpdf(theta)"
   ]
  },
  {
   "cell_type": "markdown",
   "metadata": {},
   "source": [
    "The likelihood function of your model will in general depend on the observed data. This data can be fixed as a global variable, as we did directly above for `prior_mu` and `prior_var`. It can also be defined by a default second argument: to PyVBMC there is no difference so long as the function can be called with only a single argument (the parameters `theta`):"
   ]
  },
  {
   "cell_type": "code",
   "execution_count": 3,
   "metadata": {},
   "outputs": [],
   "source": [
    "def log_likelihood(theta, data=np.ones(D)):\n",
    "    \"\"\"D-dimensional Rosenbrock's banana function.\"\"\"\n",
    "    # In this simple demo the data just translates the parameters:\n",
    "    theta = np.atleast_2d(theta)\n",
    "    theta = theta + data\n",
    "\n",
    "    x, y = theta[:, :-1], theta[:, 1:]\n",
    "    return -np.sum((x**2 - y) ** 2 + (x - 1) ** 2 / 100, axis=1)\n",
    "\n",
    "\n",
    "def log_joint(theta, data=np.ones(D)):\n",
    "    \"\"\"log-density of the joint distribution.\"\"\"\n",
    "    return log_likelihood(theta, data) + log_prior(theta)"
   ]
  },
  {
   "cell_type": "code",
   "execution_count": 4,
   "metadata": {},
   "outputs": [],
   "source": [
    "LB = np.full(D, -np.inf)  # Lower bounds\n",
    "UB = np.full(D, np.inf)  # Upper bounds\n",
    "PLB = np.full(D, prior_mu - np.sqrt(prior_var))  # Plausible lower bounds\n",
    "PUB = np.full(D, prior_mu + np.sqrt(prior_var))  # Plausible upper bounds"
   ]
  },
  {
   "cell_type": "markdown",
   "metadata": {},
   "source": [
    "In a typical inference scenario, we recommend starting from a \"good\" point (i.e. one near the mode). We can run a  quick preliminary optimization, though a more extensive optimization would not harm."
   ]
  },
  {
   "cell_type": "code",
   "execution_count": 5,
   "metadata": {},
   "outputs": [],
   "source": [
    "np.random.seed(41)\n",
    "x0 = np.random.uniform(PLB, PUB)  # Random point inside plausible box\n",
    "x0 = minimize(\n",
    "    lambda t: -log_joint(t),\n",
    "    x0,\n",
    "    bounds=[\n",
    "        (-np.inf, np.inf),\n",
    "        (-np.inf, np.inf),\n",
    "        (-np.inf, np.inf),\n",
    "        (-np.inf, np.inf),\n",
    "    ],\n",
    ").x\n",
    "np.random.seed(42)"
   ]
  },
  {
   "cell_type": "code",
   "execution_count": 6,
   "metadata": {},
   "outputs": [
    {
     "name": "stdout",
     "output_type": "stream",
     "text": [
      "Reshaping x0 to row vector.\n",
      "Reshaping lower bounds to (1, 4).\n",
      "Reshaping upper bounds to (1, 4).\n",
      "Reshaping plausible lower bounds to (1, 4).\n",
      "Reshaping plausible upper bounds to (1, 4).\n"
     ]
    }
   ],
   "source": [
    "# Limit number of function evaluations\n",
    "options = {\n",
    "    \"max_fun_evals\": 10 * D,\n",
    "}\n",
    "# We can specify either the log-joint, or the log-likelihood and log-prior.\n",
    "# In other words, the following lines are equivalent:\n",
    "vbmc = VBMC(\n",
    "    log_likelihood,\n",
    "    x0,\n",
    "    LB,\n",
    "    UB,\n",
    "    PLB,\n",
    "    PUB,\n",
    "    options=options,\n",
    "    log_prior=log_prior,\n",
    ")\n",
    "# vbmc = VBMC(\n",
    "#     log_joint,\n",
    "#     x0, LB, UB, PLB, PUB, options=options,\n",
    "# )"
   ]
  },
  {
   "cell_type": "markdown",
   "metadata": {},
   "source": [
    "(PyVBMC expects the bounds to be `(1, D)` row vectors, and the initial point(s) to be of shape `(n, D)`, but it will accept and re-shape vectors of shape `(D,)` as well.)\n",
    "\n",
    "## 2. Running the model and checking convergence diagnostics\n",
    "\n",
    "Now we run PyVBMC with a very small budget of 40 function evaluations:"
   ]
  },
  {
   "cell_type": "code",
   "execution_count": 7,
   "metadata": {
    "tags": []
   },
   "outputs": [
    {
     "name": "stdout",
     "output_type": "stream",
     "text": [
      "Beginning variational optimization assuming EXACT observations of the log-joint.\n",
      " Iteration  f-count    Mean[ELBO]    Std[ELBO]    sKL-iter[q]   K[q]  Convergence  Action\n",
      "     0         10          -4.28         2.15    275005.97        2        inf     start warm-up\n",
      "     1         15          -3.02         2.60         4.41        2        inf     \n",
      "     2         20          -4.39         1.24         8.14        2        144     \n",
      "     3         25          -4.65         0.62         3.26        2       57.3     \n",
      "     4         30          -4.79         0.71         1.12        2       21.6     \n",
      "     5         35          -5.00         0.23         1.33        2       23.7     \n",
      "     6         40          -4.82         0.13         0.05        2       1.89     \n",
      "   inf         40          -4.58         0.15         0.14       50       1.89     finalize\n",
      "Inference terminated: reached maximum number of function evaluations options.max_fun_evals.\n",
      "Estimated ELBO: -4.581 +/-0.152.\n",
      "Caution: Returned variational solution may have not converged.\n"
     ]
    }
   ],
   "source": [
    "vp, results = vbmc.optimize()"
   ]
  },
  {
   "cell_type": "markdown",
   "metadata": {},
   "source": [
    "PyVBMC is warning us that convergence is doubtful. We can look at the output for more information and diagnostics."
   ]
  },
  {
   "cell_type": "code",
   "execution_count": 8,
   "metadata": {},
   "outputs": [
    {
     "name": "stdout",
     "output_type": "stream",
     "text": [
      "False\n"
     ]
    }
   ],
   "source": [
    "print(results[\"success_flag\"])"
   ]
  },
  {
   "cell_type": "markdown",
   "metadata": {},
   "source": [
    "`False` means that PyVBMC has not converged to a stable solution within the given number of function evaluations."
   ]
  },
  {
   "cell_type": "code",
   "execution_count": 9,
   "metadata": {},
   "outputs": [
    {
     "name": "stdout",
     "output_type": "stream",
     "text": [
      "{\n",
      "    'function': '<function VBMC.__init__.<locals>.log_joint at 0x7f824704ed30>',\n",
      "    'problem_type': 'unconstrained',\n",
      "    'iterations': 6,\n",
      "    'func_count': 40,\n",
      "    'best_iter': 6,\n",
      "    'train_set_size': 40,\n",
      "    'components': 50,\n",
      "    'r_index': 1.8901718949158166,\n",
      "    'convergence_status': 'no',\n",
      "    'overhead': nan,\n",
      "    'rng_state': 'rng',\n",
      "    'algorithm': 'Variational Bayesian Monte Carlo',\n",
      "    'version': '0.1.0',\n",
      "    'message': 'Inference terminated: reached maximum number of function evaluations options.max_fun_evals.',\n",
      "    'elbo': -4.580586512183974,\n",
      "    'elbo_sd': 0.15249730360797745,\n",
      "    'success_flag': False,\n",
      "}\n"
     ]
    }
   ],
   "source": [
    "print(format_dict(results))"
   ]
  },
  {
   "cell_type": "markdown",
   "metadata": {},
   "source": [
    "In the `info` dictionary:\n",
    "- the `convergence_status` field says 'no' (probable lack of convergence);\n",
    "- the reliability index `r_index` is 3.68, (should be less than 1).\n",
    "Our diagnostics tell us that this run has not converged, suggesting to increase the budget.\n",
    "\n",
    "Note that convergence to a solution does not mean that it is a _good_ solution. You should always check the returned variational posteriors, and ideally should compare across multiple runs of PyVBMC."
   ]
  },
  {
   "cell_type": "markdown",
   "metadata": {},
   "source": [
    "## 3. Saving results\n",
    "\n",
    "We can also save the `VBMC` instance to disk and reload it later, in order to check the results and convergence diagnostics, sample from the posterior, or resume the optimization from checkpoint etc. If you are only interested in the final (best) variational solution, as opposed to the full iteration history of the optimization, then you may wish to pickle only the final `VariationalPosterior` instead."
   ]
  },
  {
   "cell_type": "code",
   "execution_count": 10,
   "metadata": {},
   "outputs": [],
   "source": [
    "with open(\"vbmc_test_save.pkl\", \"wb\") as f:\n",
    "    dill.dump(vbmc, f)\n",
    "\n",
    "with open(\"vbmc_test_save.pkl\", \"rb\") as f:\n",
    "    vbmc = dill.load(f)"
   ]
  },
  {
   "cell_type": "markdown",
   "metadata": {},
   "source": [
    "## 4. Resume the optimization process"
   ]
  },
  {
   "cell_type": "markdown",
   "metadata": {},
   "source": [
    "Now we could resume the optimization process of PyVBMC by increasing maximum number of function evaluations. This default is $50(d+2)$, where $d$ is the dimension of the parameter space (though this example will not use the full budget):"
   ]
  },
  {
   "cell_type": "code",
   "execution_count": 11,
   "metadata": {},
   "outputs": [],
   "source": [
    "iteration = (\n",
    "    vbmc.iteration\n",
    ")  # continue from specified iteration, here it's the last iteration\n",
    "assert 1 <= iteration <= vbmc.iteration\n",
    "\n",
    "## Set states for VBMC right before the specified iteration\n",
    "vbmc.gp = vbmc.iteration_history[\"gp\"][iteration - 1]\n",
    "vbmc.vp = vbmc.iteration_history[\"vp\"][iteration - 1]\n",
    "vbmc.function_logger = vbmc.iteration_history[\"function_logger\"][iteration - 1]\n",
    "vbmc.optim_state = vbmc.iteration_history[\"optim_state\"][iteration - 1]\n",
    "vbmc.hyp_dict = vbmc.optim_state[\"hyp_dict\"]\n",
    "vbmc.iteration = iteration - 1\n",
    "\n",
    "for k, v in vbmc.iteration_history.items():\n",
    "    try:\n",
    "        vbmc.iteration_history[k] = vbmc.iteration_history[k][:iteration]\n",
    "    except TypeError:\n",
    "        pass\n",
    "# (Optionally) Set random state for reproducibility, note that it can only\n",
    "# reproduce exactly the same optimization process when VBMC's options are not updated\n",
    "random_state = vbmc.iteration_history[\"random_state\"][iteration - 1]\n",
    "np.random.set_state(random_state)"
   ]
  },
  {
   "cell_type": "markdown",
   "metadata": {},
   "source": [
    "We need to update the options. Here we increase `max_fun_evals` and resume the optimization process."
   ]
  },
  {
   "cell_type": "code",
   "execution_count": 12,
   "metadata": {},
   "outputs": [
    {
     "name": "stdout",
     "output_type": "stream",
     "text": [
      "Beginning variational optimization assuming EXACT observations of the log-joint.\n",
      " Iteration  f-count    Mean[ELBO]    Std[ELBO]    sKL-iter[q]   K[q]  Convergence  Action\n",
      "     6         40          -4.72         0.12         0.09        2       2.78     \n",
      "     7         45          -4.70         0.05         0.01        2      0.465     \n",
      "     8         50          -4.66         0.05         0.05        2       1.09     end warm-up\n",
      "     9         55          -4.64         0.02         0.01        2      0.306     \n",
      "    10         60          -4.56         0.01         0.01        2      0.399     \n",
      "    11         65          -4.55         0.01         0.04        5      0.731     \n",
      "    12         70          -4.40         0.01         0.06        8       1.48     rotoscale, undo rotoscale\n",
      "    13         75          -4.33         0.01         0.01        9      0.476     \n",
      "    14         80          -4.30         0.00         0.00       12      0.172     \n",
      "    15         85          -4.25         0.00         0.01       15      0.285     \n",
      "    16         90          -4.22         0.00         0.00       18      0.183     \n",
      "    17         95          -4.21         0.00         0.01       19      0.117     \n",
      "    18        100          -4.21         0.00         0.00       19     0.0738     stable\n",
      "   inf        100          -4.15         0.00         0.01       50     0.0738     finalize\n",
      "Inference terminated: variational solution stable for options.tol_stable_count fcn evaluations.\n",
      "Estimated ELBO: -4.145 +/-0.002.\n"
     ]
    }
   ],
   "source": [
    "options = {\n",
    "    \"max_fun_evals\": 50 * (D + 2),\n",
    "}\n",
    "vbmc.options.is_initialized = (\n",
    "    False  # Temporarily set to False for updating options\n",
    ")\n",
    "vbmc.options.update(options)\n",
    "vbmc.options.is_initialized = True\n",
    "\n",
    "vbmc.is_finished = False\n",
    "vp, results = vbmc.optimize()"
   ]
  },
  {
   "cell_type": "code",
   "execution_count": 13,
   "metadata": {},
   "outputs": [
    {
     "name": "stdout",
     "output_type": "stream",
     "text": [
      "{\n",
      "    'function': '<function VBMC.__init__.<locals>.log_joint at 0x7f824704e700>',\n",
      "    'problem_type': 'unconstrained',\n",
      "    'iterations': 18,\n",
      "    'func_count': 100,\n",
      "    'best_iter': 18,\n",
      "    'train_set_size': 99,\n",
      "    'components': 50,\n",
      "    'r_index': 0.07375842196832269,\n",
      "    'convergence_status': 'probable',\n",
      "    'overhead': nan,\n",
      "    'rng_state': 'rng',\n",
      "    'algorithm': 'Variational Bayesian Monte Carlo',\n",
      "    'version': '0.1.0',\n",
      "    'message': 'Inference terminated: variational solution stable for options.tol_stable_count fcn evaluations.',\n",
      "    'elbo': -4.145182203012939,\n",
      "    'elbo_sd': 0.002220654574979916,\n",
      "    'success_flag': True,\n",
      "}\n"
     ]
    }
   ],
   "source": [
    "print(format_dict(results))"
   ]
  },
  {
   "cell_type": "markdown",
   "metadata": {},
   "source": [
    "With the default budget of function evaluations, we can see that the `convergence_status` is 'probable' and the `r_index` is much less than 1, suggesting convergence has been acheived. We can save the result to file and load it at anytime for verification etc."
   ]
  },
  {
   "cell_type": "code",
   "execution_count": 14,
   "metadata": {},
   "outputs": [
    {
     "name": "stdout",
     "output_type": "stream",
     "text": [
      "[[-0.09373324 -0.20273329 -0.37971214 -0.92123077]\n",
      " [ 0.37903486  0.60764692  0.78428635  1.76909208]\n",
      " [-0.35520708 -0.21939562  0.06508829 -0.08745725]\n",
      " [-1.16850346 -0.30246786 -1.02857926 -0.29353836]\n",
      " [-1.55871302 -0.47776638 -0.89148552 -1.31746064]]\n",
      "[24 23 34  1  1]\n"
     ]
    }
   ],
   "source": [
    "with open(\"vbmc_test_save.pkl\", \"wb\") as f:\n",
    "    dill.dump(vbmc, f)\n",
    "\n",
    "with open(\"vbmc_test_save.pkl\", \"rb\") as f:\n",
    "    vbmc = dill.load(f)\n",
    "\n",
    "samples, components = vbmc.vp.sample(5)\n",
    "# `samples` are samples drawn from the variational posterior.\n",
    "# `components` are the index of the mixture components each\n",
    "#  sample was drawn from.\n",
    "print(samples)\n",
    "print(components)"
   ]
  },
  {
   "cell_type": "markdown",
   "metadata": {},
   "source": [
    "## 5. Conclusions\n",
    "\n",
    "In this notebook, we have given a brief overview of PyVBMC's output diagnostics, and shown how to save and load results and resume optimization from a specific iteration.\n",
    "\n",
    "In the next notebook, we will illustrate running PyVBMC multiple times in order to validate the results."
   ]
  },
  {
   "cell_type": "markdown",
   "metadata": {},
   "source": [
    "## Acknowledgments\n",
    "\n",
    "Work on the PyVBMC package was funded by the [Finnish Center for Artificial Intelligence FCAI](https://fcai.fi/)."
   ]
  }
 ],
 "metadata": {
  "interpreter": {
   "hash": "cf2c3e35bb9d622e963fe7adafe5d3d77a0ee2382f730f35475e9a620896d84b"
  },
  "kernelspec": {
   "display_name": "Python 3 (ipykernel)",
   "language": "python",
   "name": "python3"
  },
  "language_info": {
   "codemirror_mode": {
    "name": "ipython",
    "version": 3
   },
   "file_extension": ".py",
   "mimetype": "text/x-python",
   "name": "python",
   "nbconvert_exporter": "python",
   "pygments_lexer": "ipython3",
   "version": "3.9.15"
  }
 },
 "nbformat": 4,
 "nbformat_minor": 4
}
