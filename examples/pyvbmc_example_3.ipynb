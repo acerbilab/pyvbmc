{
 "cells": [
  {
   "cell_type": "markdown",
   "metadata": {},
   "source": [
    "# Example 3: Extended usage and output diagnostics"
   ]
  },
  {
   "cell_type": "markdown",
   "metadata": {},
   "source": [
    "In this notebook, we demonstrate extended usage of PyVBMC. We will take a brief look at PyVBMC's diagnostic output, and show you how to save the results of optimization to disk.\n",
    "\n",
    "This notebook is Part 3 of a series of notebooks in which we present various example usages for VBMC with the PyVBMC package."
   ]
  },
  {
   "cell_type": "code",
   "execution_count": 1,
   "metadata": {},
   "outputs": [],
   "source": [
    "import numpy as np\n",
    "import scipy.stats as scs\n",
    "from scipy.optimize import minimize\n",
    "from pyvbmc.vbmc import VBMC\n",
    "from pyvbmc.formatting import format_dict\n",
    "import dill"
   ]
  },
  {
   "cell_type": "markdown",
   "metadata": {},
   "source": [
    "## 1. Model definition and setup\n",
    "\n",
    "For demonstration purposes, we will run PyVBMC with a restricted budget of function evaluations, insufficient to achieve convergence. Then we will inspect the output diagnostics, and resume optimization.\n",
    "\n",
    "We use a higher-dimensional analogue of the same toy target function in Example 1, a broad [Rosenbrock's banana function](https://en.wikipedia.org/wiki/Rosenbrock_function) in $D = 4$."
   ]
  },
  {
   "cell_type": "code",
   "execution_count": 2,
   "metadata": {},
   "outputs": [],
   "source": [
    "D = 4  # A four-dimensional problem\n",
    "prior_mu = np.zeros(D)\n",
    "prior_var = 3 * np.ones(D)\n",
    "\n",
    "\n",
    "def log_prior(theta):\n",
    "    \"\"\"Multivariate normal prior on theta.\"\"\"\n",
    "    cov = np.diag(prior_var)\n",
    "    return scs.multivariate_normal(prior_mu, cov).logpdf(theta)"
   ]
  },
  {
   "cell_type": "markdown",
   "metadata": {},
   "source": [
    "The likelihood function of your model will in general depend on the observed data. This data can be fixed as a global variable, as we did directly above for `prior_mu` and `prior_var`. It can also be defined by a default second argument: to PyVBMC there is no difference so long as the function can be called with only a single argument (the parameters `theta`):"
   ]
  },
  {
   "cell_type": "code",
   "execution_count": 3,
   "metadata": {},
   "outputs": [],
   "source": [
    "def log_likelihood(theta, data=np.ones(D)):\n",
    "    \"\"\"D-dimensional Rosenbrock's banana function.\"\"\"\n",
    "    # In this simple demo the data just translates the parameters:\n",
    "    theta = np.atleast_2d(theta)\n",
    "    theta = theta + data\n",
    "\n",
    "    x, y = theta[:, :-1], theta[:, 1:]\n",
    "    return -np.sum((x**2 - y) ** 2 + (x - 1) ** 2 / 100, axis=1)\n",
    "\n",
    "\n",
    "def log_joint(theta, data=np.ones(D)):\n",
    "    \"\"\"log-density of the joint distribution.\"\"\"\n",
    "    return log_likelihood(theta, data) + log_prior(theta)"
   ]
  },
  {
   "cell_type": "code",
   "execution_count": 4,
   "metadata": {},
   "outputs": [],
   "source": [
    "LB = np.full(D, -np.inf)  # Lower bounds\n",
    "UB = np.full(D, np.inf)  # Upper bounds\n",
    "PLB = np.full(D, prior_mu - np.sqrt(prior_var))  # Plausible lower bounds\n",
    "PUB = np.full(D, prior_mu + np.sqrt(prior_var))  # Plausible upper bounds"
   ]
  },
  {
   "cell_type": "markdown",
   "metadata": {},
   "source": [
    "In a typical inference scenario, we recommend starting from a \"good\" point (i.e. one near the mode). We can run a  quick preliminary optimization, though a more extensive optimization would not harm."
   ]
  },
  {
   "cell_type": "code",
   "execution_count": 5,
   "metadata": {},
   "outputs": [],
   "source": [
    "np.random.seed(41)\n",
    "x0 = np.random.uniform(PLB, PUB)  # Random point inside plausible box\n",
    "x0 = minimize(\n",
    "    lambda t: -log_joint(t),\n",
    "    x0,\n",
    "    bounds=[\n",
    "        (-np.inf, np.inf),\n",
    "        (-np.inf, np.inf),\n",
    "        (-np.inf, np.inf),\n",
    "        (-np.inf, np.inf),\n",
    "    ],\n",
    ").x\n",
    "np.random.seed(42)"
   ]
  },
  {
   "cell_type": "code",
   "execution_count": 6,
   "metadata": {},
   "outputs": [
    {
     "name": "stdout",
     "output_type": "stream",
     "text": [
      "Reshaping x0 to row vector.\n",
      "Reshaping lower bounds to (1, 4).\n",
      "Reshaping upper bounds to (1, 4).\n",
      "Reshaping plausible lower bounds to (1, 4).\n",
      "Reshaping plausible upper bounds to (1, 4).\n"
     ]
    }
   ],
   "source": [
    "# Limit number of function evaluations\n",
    "options = {\n",
    "    \"max_fun_evals\": 10 * D,\n",
    "}\n",
    "# We can specify either the log-joint, or the log-likelihood and log-prior.\n",
    "# In other words, the following lines are equivalent:\n",
    "vbmc = VBMC(\n",
    "    log_likelihood,\n",
    "    x0,\n",
    "    LB,\n",
    "    UB,\n",
    "    PLB,\n",
    "    PUB,\n",
    "    user_options=options,\n",
    "    log_prior=log_prior,\n",
    ")\n",
    "# vbmc = VBMC(\n",
    "#     log_joint,\n",
    "#     x0, LB, UB, PLB, PUB, user_options=options,\n",
    "# )"
   ]
  },
  {
   "cell_type": "markdown",
   "metadata": {},
   "source": [
    "(PyVBMC expects the bounds to be `(1, D)` row vectors, and the initial point(s) to be of shape `(n, D)`, but it will accept and re-shape vectors of shape `(D,)` as well.)\n",
    "\n",
    "## 2. Running the model and checking convergence diagnostics\n",
    "\n",
    "Now we run PyVBMC with a very small budget of 40 function evaluations:"
   ]
  },
  {
   "cell_type": "code",
   "execution_count": 7,
   "metadata": {},
   "outputs": [
    {
     "name": "stdout",
     "output_type": "stream",
     "text": [
      "Beginning variational optimization assuming EXACT observations of the log-joint.\n",
      " Iteration  f-count    Mean[ELBO]    Std[ELBO]    sKL-iter[q]   K[q]  Convergence  Action\n",
      "     0         10          -4.30         2.18    261321.64        2        inf     start warm-up\n",
      "     1         15          -4.75         1.16         0.27        2        inf     \n",
      "     2         20          -4.71         1.27        22.18        2        374     \n",
      "     3         25          -5.21         0.38         3.80        2       66.3     \n",
      "     4         30          -5.24         0.44         0.66        2       12.6     \n",
      "     5         35          -4.35         2.62         3.98        2       78.1     \n",
      "     6         40          -4.86         0.12         2.53        2       44.3     \n",
      "   inf         40          -4.48         0.17         2.07       50       44.3     finalize\n",
      "Inference terminated: reached maximum number of function evaluations options.max_fun_evals.\n",
      "Estimated ELBO: -4.479 +/-0.169.\n",
      "Caution: Returned variational solution may have not converged.\n"
     ]
    }
   ],
   "source": [
    "vp, elbo, elbo_sd, success_flag, info = vbmc.optimize()"
   ]
  },
  {
   "cell_type": "markdown",
   "metadata": {},
   "source": [
    "PyVBMC is warning us that convergence is doubtful. We can look at the output for more information and diagnostics."
   ]
  },
  {
   "cell_type": "code",
   "execution_count": 8,
   "metadata": {},
   "outputs": [
    {
     "name": "stdout",
     "output_type": "stream",
     "text": [
      "False\n"
     ]
    }
   ],
   "source": [
    "print(success_flag)"
   ]
  },
  {
   "cell_type": "markdown",
   "metadata": {},
   "source": [
    "`False` means that PyVBMC has not converged to a stable solution within the given number of function evaluations."
   ]
  },
  {
   "cell_type": "code",
   "execution_count": 9,
   "metadata": {},
   "outputs": [
    {
     "name": "stdout",
     "output_type": "stream",
     "text": [
      "{\n",
      "    'function': '<function VBMC.__init__.<locals>.log_joint at 0x7fc7a2277d30>',\n",
      "    'problem_type': 'unconstrained',\n",
      "    'iterations': 6,\n",
      "    'func_count': 40,\n",
      "    'best_iter': 6,\n",
      "    'train_set_size': 40,\n",
      "    'components': 50,\n",
      "    'r_index': 44.25350292432569,\n",
      "    'convergence_status': 'no',\n",
      "    'overhead': nan,\n",
      "    'rng_state': 'rng',\n",
      "    'algorithm': 'Variational Bayesian Monte Carlo',\n",
      "    'version': '0.1.0',\n",
      "    'message': 'Inference terminated: reached maximum number of function evaluations options.max_fun_evals.',\n",
      "    'elbo': -4.478762937046817,\n",
      "    'elbo_sd': 0.16871359698848737,\n",
      "}\n"
     ]
    }
   ],
   "source": [
    "print(format_dict(info))"
   ]
  },
  {
   "cell_type": "markdown",
   "metadata": {},
   "source": [
    "In the `info` dictionary:\n",
    "- the `convergence_status` field says 'no' (probable lack of convergence);\n",
    "- the reliability index `r_index` is 3.68, (should be less than 1).\n",
    "Our diagnostics tell us that this run has not converged, suggesting to increase the budget.\n",
    "\n",
    "Note that convergence to a solution does not mean that it is a _good_ solution. You should always check the returned variational posteriors, and ideally should compare across multiple runs of PyVBMC.\n",
    "\n",
    "Now we will re-run PyVBMC using the default maximum number of function evaluations. This default is $50(d+2)$, where $d$ is the dimension of the parameter space (though this example will not use the full budget):"
   ]
  },
  {
   "cell_type": "code",
   "execution_count": 10,
   "metadata": {},
   "outputs": [
    {
     "name": "stdout",
     "output_type": "stream",
     "text": [
      "Reshaping x0 to row vector.\n",
      "Reshaping lower bounds to (1, 4).\n",
      "Reshaping upper bounds to (1, 4).\n",
      "Reshaping plausible lower bounds to (1, 4).\n",
      "Reshaping plausible upper bounds to (1, 4).\n",
      "Beginning variational optimization assuming EXACT observations of the log-joint.\n",
      " Iteration  f-count    Mean[ELBO]    Std[ELBO]    sKL-iter[q]   K[q]  Convergence  Action\n",
      "     0         10          -4.30         2.18    261321.64        2        inf     start warm-up\n",
      "     1         15          -5.04         1.13         4.33        2        inf     \n",
      "     2         20          -5.61         0.70         3.32        2       59.6     \n",
      "     3         25          -5.01         1.21         0.64        2       16.6     \n",
      "     4         30          -5.22         0.41         0.65        2       12.9     \n",
      "     5         35          -4.94         0.38         0.41        2       8.96     \n",
      "     6         40          -4.79         0.12         0.16        2       3.62     \n",
      "     7         45          -4.75         0.09         0.05        2       1.29     \n",
      "     8         50          -4.64         0.05         0.02        2      0.866     \n",
      "     9         55          -4.68         0.02         0.03        2      0.659     end warm-up\n",
      "    10         60          -4.60         0.02         0.01        2      0.548     \n",
      "    11         65          -4.59         0.02         0.00        2      0.116     \n",
      "    12         70          -4.44         0.02         0.05        5       1.44     \n",
      "    13         75          -4.41         0.01         0.02        6      0.427     rotoscale, undo rotoscale\n",
      "    14         80          -4.36         0.01         0.01        9      0.287     \n",
      "    15         85          -4.32         0.01         0.01       12      0.277     \n",
      "    16         90          -4.27         0.00         0.01       14      0.408     \n",
      "    17         95          -4.28         0.00         0.00       12     0.0881     \n",
      "    18        100          -4.26         0.00         0.00       12        0.1     stable\n",
      "   inf        100          -4.16         0.00         0.03       50        0.1     finalize\n",
      "Inference terminated: variational solution stable for options.tol_stable_count fcn evaluations.\n",
      "Estimated ELBO: -4.156 +/-0.003.\n"
     ]
    }
   ],
   "source": [
    "np.random.seed(42)\n",
    "vbmc_2 = VBMC(\n",
    "    log_likelihood,\n",
    "    x0,\n",
    "    LB,\n",
    "    UB,\n",
    "    PLB,\n",
    "    PUB,\n",
    "    log_prior=log_prior,\n",
    ")\n",
    "vp_2, elbo_2, elbo_sd_2, success_flag_2, info_2 = vbmc_2.optimize()"
   ]
  },
  {
   "cell_type": "code",
   "execution_count": 11,
   "metadata": {},
   "outputs": [
    {
     "name": "stdout",
     "output_type": "stream",
     "text": [
      "{\n",
      "    'function': '<function VBMC.__init__.<locals>.log_joint at 0x7fc79df38550>',\n",
      "    'problem_type': 'unconstrained',\n",
      "    'iterations': 18,\n",
      "    'func_count': 100,\n",
      "    'best_iter': 18,\n",
      "    'train_set_size': 99,\n",
      "    'components': 50,\n",
      "    'r_index': 0.10006016667866248,\n",
      "    'convergence_status': 'probable',\n",
      "    'overhead': nan,\n",
      "    'rng_state': 'rng',\n",
      "    'algorithm': 'Variational Bayesian Monte Carlo',\n",
      "    'version': '0.1.0',\n",
      "    'message': 'Inference terminated: variational solution stable for options.tol_stable_count fcn evaluations.',\n",
      "    'elbo': -4.156188182738892,\n",
      "    'elbo_sd': 0.002838216226534726,\n",
      "}\n"
     ]
    }
   ],
   "source": [
    "print(format_dict(info_2))"
   ]
  },
  {
   "cell_type": "markdown",
   "metadata": {},
   "source": [
    "With the default budget of function evaluations, we can see that the `convergence_status` is 'probable' and the `r_index` is much less than 1, suggesting convergence has been acheived.\n",
    "\n",
    "## 3. Saving results\n",
    "\n",
    "We can also save the `VBMC` instance to disk and reload it later, in order to check the results and convergence diagnostics, sample from the posterior, etc. If you are only interested in the final (best) variational solution, as opposed to the full iteration history of the optimization, then you may wish to pickle only the final `VariationalPosterior` instead."
   ]
  },
  {
   "cell_type": "code",
   "execution_count": 12,
   "metadata": {},
   "outputs": [],
   "source": [
    "with open(\"vbmc_test_save.pkl\", \"wb\") as f:\n",
    "    dill.dump(vbmc_2, f)\n",
    "    # To pickle just the VP:\n",
    "    # dill.dump(vp_2, f)"
   ]
  },
  {
   "cell_type": "code",
   "execution_count": 13,
   "metadata": {},
   "outputs": [
    {
     "name": "stdout",
     "output_type": "stream",
     "text": [
      "[[-1.28266157 -0.27594897  0.24020049 -0.07582188]\n",
      " [ 0.37839969 -1.31150667 -1.53031151 -0.45366665]\n",
      " [-0.25085486  0.60567925  0.18645779  0.88174226]\n",
      " [-1.58706305 -0.06215183 -0.45124499 -1.44755624]\n",
      " [ 0.70967592  0.51295552  0.45439654  1.67490708]]\n",
      "[44 21  2  0  2]\n"
     ]
    }
   ],
   "source": [
    "with open(\"vbmc_test_save.pkl\", \"rb\") as f:\n",
    "    vbmc_3 = dill.load(f)\n",
    "samples, components = vbmc_3.vp.sample(5)\n",
    "# `samples` are samples drawn from the variational posterior.\n",
    "# `components` are the index of the mixture components each\n",
    "#  sample was drawn from.\n",
    "print(samples)\n",
    "print(components)"
   ]
  },
  {
   "cell_type": "markdown",
   "metadata": {},
   "source": [
    "## 4. Conclusions\n",
    "\n",
    "In this notebook, we have given a brief overview of PyVBMC's output diagnostics, and shown how to save and load results.\n",
    "\n",
    "In the next notebook, we will illustrate running PyVBMC multiple times in order to validate the results."
   ]
  },
  {
   "cell_type": "markdown",
   "metadata": {},
   "source": [
    "## Example 3: full code\n",
    "\n",
    "The following cell includes in a single place all the code used in Example 3, without the extra fluff."
   ]
  },
  {
   "cell_type": "code",
   "execution_count": 14,
   "metadata": {},
   "outputs": [
    {
     "ename": "AssertionError",
     "evalue": "",
     "output_type": "error",
     "traceback": [
      "\u001b[0;31m---------------------------------------------------------------------------\u001b[0m",
      "\u001b[0;31mAssertionError\u001b[0m                            Traceback (most recent call last)",
      "Cell \u001b[0;32mIn [14], line 1\u001b[0m\n\u001b[0;32m----> 1\u001b[0m \u001b[38;5;28;01massert\u001b[39;00m \u001b[38;5;28;01mFalse\u001b[39;00m  \u001b[38;5;66;03m# skip this cell\u001b[39;00m\n\u001b[1;32m      3\u001b[0m \u001b[38;5;28;01mimport\u001b[39;00m \u001b[38;5;21;01mnumpy\u001b[39;00m \u001b[38;5;28;01mas\u001b[39;00m \u001b[38;5;21;01mnp\u001b[39;00m\n\u001b[1;32m      4\u001b[0m \u001b[38;5;28;01mimport\u001b[39;00m \u001b[38;5;21;01mscipy\u001b[39;00m\u001b[38;5;21;01m.\u001b[39;00m\u001b[38;5;21;01mstats\u001b[39;00m \u001b[38;5;28;01mas\u001b[39;00m \u001b[38;5;21;01mscs\u001b[39;00m\n",
      "\u001b[0;31mAssertionError\u001b[0m: "
     ]
    }
   ],
   "source": [
    "assert False  # skip this cell\n",
    "\n",
    "import numpy as np\n",
    "import scipy.stats as scs\n",
    "from scipy.optimize import minimize\n",
    "from pyvbmc.vbmc import VBMC\n",
    "from pyvbmc.formatting import format_dict\n",
    "import dill\n",
    "\n",
    "\n",
    "D = 4  # A four-dimensional problem\n",
    "prior_mu = np.zeros(D)\n",
    "prior_var = 3 * np.ones(D)\n",
    "\n",
    "\n",
    "def log_prior(theta):\n",
    "    \"\"\"Multivariate normal prior on theta.\"\"\"\n",
    "    cov = np.diag(prior_var)\n",
    "    return scs.multivariate_normal(prior_mu, cov).logpdf(theta)\n",
    "\n",
    "\n",
    "def log_likelihood(theta, data=np.ones(D)):\n",
    "    \"\"\"D-dimensional Rosenbrock's banana function.\"\"\"\n",
    "    # In this simple demo the data just translates the parameters:\n",
    "    theta = np.atleast_2d(theta)\n",
    "    theta = theta + data\n",
    "\n",
    "    x, y = theta[:, :-1], theta[:, 1:]\n",
    "    return -np.sum((x**2 - y) ** 2 + (x - 1) ** 2 / 100, axis=1)\n",
    "\n",
    "\n",
    "def log_joint(theta, data=np.ones(D)):\n",
    "    \"\"\"log-density of the joint distribution.\"\"\"\n",
    "    return log_likelihood(theta, data) + log_prior(theta)\n",
    "\n",
    "\n",
    "LB = np.full(D, -np.inf)  # Lower bounds\n",
    "UB = np.full(D, np.inf)  # Upper bounds\n",
    "PLB = np.full(D, prior_mu - np.sqrt(prior_var))  # Plausible lower bounds\n",
    "PUB = np.full(D, prior_mu + np.sqrt(prior_var))  # Plausible upper bounds\n",
    "\n",
    "\n",
    "np.random.seed(41)\n",
    "x0 = np.random.uniform(PLB, PUB)  # Random point inside plausible box\n",
    "x0 = minimize(\n",
    "    lambda t: -log_joint(t),\n",
    "    x0,\n",
    "    bounds=[\n",
    "        (-np.inf, np.inf),\n",
    "        (-np.inf, np.inf),\n",
    "        (-np.inf, np.inf),\n",
    "        (-np.inf, np.inf),\n",
    "    ],\n",
    ").x\n",
    "np.random.seed(42)\n",
    "\n",
    "\n",
    "# Limit number of function evaluations\n",
    "options = {\n",
    "    \"max_fun_evals\": 10 * D,\n",
    "}\n",
    "# We can specify either the log-joint, or the log-likelihood and log-prior.\n",
    "# In other words, the following lines are equivalent:\n",
    "vbmc = VBMC(\n",
    "    log_likelihood,\n",
    "    x0,\n",
    "    LB,\n",
    "    UB,\n",
    "    PLB,\n",
    "    PUB,\n",
    "    user_options=options,\n",
    "    log_prior=log_prior,\n",
    ")\n",
    "# vbmc = VBMC(\n",
    "#     log_joint,\n",
    "#     x0, LB, UB, PLB, PUB, user_options=options,\n",
    "# )\n",
    "\n",
    "\n",
    "vp, elbo, elbo_sd, success_flag, info = vbmc.optimize()\n",
    "\n",
    "\n",
    "print(success_flag)\n",
    "\n",
    "\n",
    "print(format_dict(info))\n",
    "\n",
    "\n",
    "np.random.seed(42)\n",
    "vbmc_2 = VBMC(\n",
    "    log_likelihood,\n",
    "    x0,\n",
    "    LB,\n",
    "    UB,\n",
    "    PLB,\n",
    "    PUB,\n",
    "    log_prior=log_prior,\n",
    ")\n",
    "vp_2, elbo_2, elbo_sd_2, success_flag_2, info_2 = vbmc_2.optimize()\n",
    "\n",
    "\n",
    "print(format_dict(info_2))\n",
    "\n",
    "\n",
    "with open(\"vbmc_test_save.pkl\", \"wb\") as f:\n",
    "    dill.dump(vbmc_2, f)\n",
    "    # To pickle just the VP:\n",
    "    # dill.dump(vp_2, f)\n",
    "\n",
    "\n",
    "with open(\"vbmc_test_save.pkl\", \"rb\") as f:\n",
    "    vbmc_3 = dill.load(f)\n",
    "samples, components = vbmc_3.vp.sample(5)\n",
    "# `samples` are samples drawn from the variational posterior.\n",
    "# `components` are the index of the mixture components each\n",
    "#  sample was drawn from.\n",
    "print(samples)\n",
    "print(components)"
   ]
  },
  {
   "cell_type": "markdown",
   "metadata": {},
   "source": [
    "## Acknowledgments\n",
    "\n",
    "Work on the PyVBMC package was funded by the [Finnish Center for Artificial Intelligence FCAI](https://fcai.fi/)."
   ]
  }
 ],
 "metadata": {
  "interpreter": {
   "hash": "cf2c3e35bb9d622e963fe7adafe5d3d77a0ee2382f730f35475e9a620896d84b"
  },
  "kernelspec": {
   "display_name": "Python 3 (ipykernel)",
   "language": "python",
   "name": "python3"
  },
  "language_info": {
   "codemirror_mode": {
    "name": "ipython",
    "version": 3
   },
   "file_extension": ".py",
   "mimetype": "text/x-python",
   "name": "python",
   "nbconvert_exporter": "python",
   "pygments_lexer": "ipython3",
   "version": "3.9.13"
  }
 },
 "nbformat": 4,
 "nbformat_minor": 2
}
