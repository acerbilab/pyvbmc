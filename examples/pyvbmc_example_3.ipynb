{
 "cells": [
  {
   "cell_type": "markdown",
   "metadata": {},
   "source": [
    "# Example 3: Extended usage and output diagnostics"
   ]
  },
  {
   "cell_type": "markdown",
   "metadata": {},
   "source": [
    "In this notebook, we demonstrate extended usage of `pyvbmc`. We will:\n",
    "- take a brief look at `pyvbmc`'s diagnostic output,\n",
    "- show you how to continue optimization starting from the results of a previous run, and\n",
    "- show you how to save the results of optimization to disk.\n",
    "\n",
    "This notebook is Part 3 of a series of notebooks in which we present various example usages for VBMC with the `pyvbmc` package."
   ]
  },
  {
   "cell_type": "code",
   "execution_count": 1,
   "metadata": {},
   "outputs": [],
   "source": [
    "import numpy as np\n",
    "import scipy.stats as scs\n",
    "from scipy.optimize import minimize\n",
    "from pyvbmc.vbmc import VBMC\n",
    "import dill"
   ]
  },
  {
   "cell_type": "markdown",
   "metadata": {},
   "source": [
    "## 1. Convergence Diagnostics\n",
    "\n",
    "For demonstration purposes, we will run VBMC with a restricted budget of function evaluations, insufficient to achieve convergence. Then we will inspect the output diagnostics, and resume optimization.\n",
    "\n",
    "We use a higher-dimensional analogue of the same toy target function in Example 1, a broad [Rosenbrock's banana function](https://en.wikipedia.org/wiki/Rosenbrock_function) in $D = 4$."
   ]
  },
  {
   "cell_type": "code",
   "execution_count": 2,
   "metadata": {},
   "outputs": [],
   "source": [
    "D = 4  # A four-dimensional problem\n",
    "prior_mu = np.zeros(D)\n",
    "prior_var = 3 * np.ones(D)\n",
    "\n",
    "\n",
    "def log_prior(theta):\n",
    "    \"\"\"Multivariate normal prior on theta.\"\"\"\n",
    "    cov = np.diag(prior_var)\n",
    "    return scs.multivariate_normal(prior_mu, cov).logpdf(theta)"
   ]
  },
  {
   "cell_type": "markdown",
   "metadata": {},
   "source": [
    "Of course, your likelihood will in general depend on the observed data. This data can be fixed as a global variable, as we did above for `prior_mu` and `prior_var`. It can also be defined by a default keyword argument: to `pyvbmc` there is no difference so long as the function can be called with only a single argument (the parameters `theta`):"
   ]
  },
  {
   "cell_type": "code",
   "execution_count": 3,
   "metadata": {},
   "outputs": [],
   "source": [
    "def log_likelihood(theta, data=np.ones(D)):\n",
    "    \"\"\"D-dimensional Rosenbrock's banana function.\"\"\"\n",
    "    # In this simple demo the data just translates the parameters:\n",
    "    theta = np.atleast_2d(theta)\n",
    "    theta = theta + data\n",
    "\n",
    "    x, y = theta[:, :-1], theta[:, 1:]\n",
    "    return -np.sum((x**2 - y) ** 2 + (x - 1) ** 2 / 100, axis=1)\n",
    "\n",
    "\n",
    "def log_joint(theta, data=np.ones(D)):\n",
    "    return log_likelihood(theta, data) + log_prior(theta)"
   ]
  },
  {
   "cell_type": "code",
   "execution_count": 4,
   "metadata": {},
   "outputs": [],
   "source": [
    "LB = np.full(D, -np.inf)  # Lower bounds\n",
    "UB = np.full(D, np.inf)  # Upper bounds\n",
    "PLB = np.full(D, prior_mu - np.sqrt(prior_var))  # Plausible lower bounds\n",
    "PUB = np.full(D, prior_mu + np.sqrt(prior_var))  # Plausible upper bounds"
   ]
  },
  {
   "cell_type": "markdown",
   "metadata": {},
   "source": [
    "In a typical inference scenario, we recommend starting from a \"good\" point (i.e. one near the mode). We can run a  quick preliminary optimization (though a more extensive optimization would not harm)."
   ]
  },
  {
   "cell_type": "code",
   "execution_count": 5,
   "metadata": {},
   "outputs": [],
   "source": [
    "np.random.seed(42)\n",
    "x0 = np.random.uniform(PLB, PUB)  # Random point inside plausible box\n",
    "x0 = minimize(lambda t: -log_joint(t), x0).x"
   ]
  },
  {
   "cell_type": "code",
   "execution_count": 6,
   "metadata": {},
   "outputs": [
    {
     "name": "stdout",
     "output_type": "stream",
     "text": [
      "Reshaping x0 to row vector.\n",
      "Reshaping lower bounds to (1, 4).\n",
      "Reshaping upper bounds to (1, 4).\n",
      "Reshaping plausible lower bounds to (1, 4).\n",
      "Reshaping plausible upper bounds to (1, 4).\n"
     ]
    }
   ],
   "source": [
    "# Limit number of function evaluations\n",
    "options = {\n",
    "    \"max_fun_evals\": 10 * D,\n",
    "}\n",
    "# We can specify either the log-joint, or the log-likelihood and log-prior.\n",
    "# In other words, the following lines are equivalent:\n",
    "vbmc = VBMC(\n",
    "    log_likelihood,\n",
    "    x0,\n",
    "    LB,\n",
    "    UB,\n",
    "    PLB,\n",
    "    PUB,\n",
    "    user_options=options,\n",
    "    log_prior=log_prior,\n",
    ")\n",
    "# vbmc = VBMC(\n",
    "#     log_joint,\n",
    "#     x0, LB, UB, PLB, PUB, user_options=options,\n",
    "# )"
   ]
  },
  {
   "cell_type": "code",
   "execution_count": 7,
   "metadata": {},
   "outputs": [
    {
     "name": "stdout",
     "output_type": "stream",
     "text": [
      "Beginning variational optimization assuming EXACT observations of the log-joint.\n",
      " Iteration  f-count    Mean[ELBO]    Std[ELBO]    sKL-iter[q]   K[q]  Convergence  Action\n",
      "     0         10          -9.40         4.43     28517.14        2        inf     start warm-up\n",
      "     1         15          -5.33         1.04         3.02        2        inf     \n",
      "     2         20          -4.54         2.02         3.79        2       72.6     \n",
      "     3         25          -5.84         1.35        13.66        2        236     \n",
      "     4         30          -3.74         1.56         5.13        2       97.7     \n",
      "     5         35          -4.89         0.41         2.05        2       39.4     \n",
      "     6         40          -4.95         0.19         0.17        2       3.68     \n",
      "   inf         40          -4.68         0.19         0.26       50       3.68     finalize\n",
      "Inference terminated: reached maximum number of function evaluations options.max_fun_evals.\n",
      "Estimated ELBO: -4.679 +/-0.192.\n",
      "Caution: Returned variational solution may have not converged.\n"
     ]
    }
   ],
   "source": [
    "vp, elbo, elbo_sd, success_flag, info = vbmc.optimize()"
   ]
  },
  {
   "cell_type": "markdown",
   "metadata": {},
   "source": [
    "`pyvbmc` is warning us that convergence is doubtful. We can look at the output for more information and diagnostics."
   ]
  },
  {
   "cell_type": "code",
   "execution_count": 8,
   "metadata": {},
   "outputs": [
    {
     "data": {
      "text/plain": [
       "False"
      ]
     },
     "execution_count": 8,
     "metadata": {},
     "output_type": "execute_result"
    }
   ],
   "source": [
    "success_flag"
   ]
  },
  {
   "cell_type": "markdown",
   "metadata": {},
   "source": [
    "`False` means that `pyvbmc` has not converged to a stable solution within the given number of function evaluations."
   ]
  },
  {
   "cell_type": "code",
   "execution_count": 9,
   "metadata": {},
   "outputs": [
    {
     "data": {
      "text/plain": [
       "{'function': '<function VBMC.__init__.<locals>.log_joint at 0x7fd217ebc280>',\n",
       " 'problemtype': 'unconstrained',\n",
       " 'iterations': 6,\n",
       " 'funccount': 40,\n",
       " 'bestiter': 6,\n",
       " 'trainsetsize': 40,\n",
       " 'components': 50,\n",
       " 'rindex': 3.681110484591521,\n",
       " 'convergencestatus': 'no',\n",
       " 'overhead': nan,\n",
       " 'rngstate': 'rng',\n",
       " 'algorithm': 'Variational Bayesian Monte Carlo',\n",
       " 'version': '0.0.1',\n",
       " 'message': 'Inference terminated: reached maximum number of function evaluations options.max_fun_evals.',\n",
       " 'elbo': -4.679438624214694,\n",
       " 'elbo_sd': 0.19191071535555979}"
      ]
     },
     "execution_count": 9,
     "metadata": {},
     "output_type": "execute_result"
    }
   ],
   "source": [
    "info"
   ]
  },
  {
   "cell_type": "markdown",
   "metadata": {},
   "source": [
    "In the `info` dictionary:\n",
    "- the `convergencestatus` field says 'no' (probable lack of convergence);\n",
    "- the reliability index `rindex` is 3.68, (should be less than 1).\n",
    "Our diagnostics tell us that this run has not converged, suggesting to increase the budget. Note that convergence to a solution does not mean that it is a _good_ solution. You should always check the returned variational posteriors, and ideally should compare across multiple runs of `pyvbmc`.\n",
    "\n",
    "## Continuing optimization from a previous result\n",
    "\n",
    "We can continue running `pyvbmc` where we left off by calling the `optimize()` method again. But first we will change the function evaluation budget to a more realistic value."
   ]
  },
  {
   "cell_type": "code",
   "execution_count": 10,
   "metadata": {},
   "outputs": [
    {
     "name": "stdout",
     "output_type": "stream",
     "text": [
      "Beginning variational optimization assuming EXACT observations of the log-joint.\n",
      " Iteration  f-count    Mean[ELBO]    Std[ELBO]    sKL-iter[q]   K[q]  Convergence  Action\n",
      "     0         50          -2.43         4.60         5.57        2        inf     \n",
      "     1         55          -4.77         0.11         1.35        2        inf     \n",
      "     2         60          -4.64         0.08         0.06        2       1.75     \n",
      "     3         65          -4.61         0.02         0.07        3       1.39     \n",
      "     4         70          -4.49         0.02         0.07        4        1.6     \n",
      "     5         75          -4.44         0.01         0.02        5       0.43     \n",
      "     6         80          -4.39         0.01         0.01        6      0.335     rotoscale, undo rotoscale\n",
      "     7         85          -4.30         0.00         0.02        9      0.687     \n",
      "     8         90          -4.27         0.00         0.00       12      0.164     \n",
      "     9         95          -4.26         0.00         0.00       15      0.088     \n",
      "    10        100          -4.25         0.00         0.00       18     0.0702     \n",
      "    11        105          -4.20         0.00         0.01       21      0.291     \n",
      "    12        110          -4.18         0.00         0.00       23      0.118     \n",
      "    13        115          -4.17         0.00         0.00       24     0.0801     \n",
      "    14        120          -4.17         0.00         0.00       25     0.0195     stable\n",
      "   inf        120          -4.14         0.00         0.00       50     0.0195     finalize\n",
      "Inference terminated: variational solution stable for options.tol_stable_count fcn evaluations.\n",
      "Estimated ELBO: -4.138 +/-0.002.\n"
     ]
    },
    {
     "data": {
      "text/plain": [
       "(<pyvbmc.variational_posterior.variational_posterior.VariationalPosterior at 0x7fd217ca1760>,\n",
       " -4.138023411605985,\n",
       " 0.0017356383397193903,\n",
       " True,\n",
       " {'function': '<function VBMC.__init__.<locals>.log_joint at 0x7fd217ebc280>',\n",
       "  'problemtype': 'unconstrained',\n",
       "  'iterations': 14,\n",
       "  'funccount': 120,\n",
       "  'bestiter': 14,\n",
       "  'trainsetsize': 120,\n",
       "  'components': 50,\n",
       "  'rindex': 0.01949541499596393,\n",
       "  'convergencestatus': 'probable',\n",
       "  'overhead': nan,\n",
       "  'rngstate': 'rng',\n",
       "  'algorithm': 'Variational Bayesian Monte Carlo',\n",
       "  'version': '0.0.1',\n",
       "  'message': 'Inference terminated: variational solution stable for options.tol_stable_count fcn evaluations.',\n",
       "  'elbo': -4.138023411605985,\n",
       "  'elbo_sd': 0.0017356383397193903})"
      ]
     },
     "execution_count": 10,
     "metadata": {},
     "output_type": "execute_result"
    }
   ],
   "source": [
    "# This verbose syntax is required to avoid unintentionally modifying\n",
    "# options after initialization:\n",
    "vbmc.options.__setitem__(\"max_fun_evals\", 50 * (D + 2), force=True)\n",
    "vbmc.optimize()"
   ]
  },
  {
   "cell_type": "markdown",
   "metadata": {},
   "source": [
    "## 3. Saving results\n",
    "\n",
    "We can also save the `VBMC` instance to disk and reload it later, in order to continue optimization, sample from the posterior, check the results, etc."
   ]
  },
  {
   "cell_type": "code",
   "execution_count": 11,
   "metadata": {},
   "outputs": [],
   "source": [
    "with open(\"vbmc_test_save.pkl\", \"wb\") as f:\n",
    "    dill.dump(vbmc, f)"
   ]
  },
  {
   "cell_type": "code",
   "execution_count": 12,
   "metadata": {},
   "outputs": [
    {
     "data": {
      "text/plain": [
       "(array([[ 0.14643708,  0.11663166, -0.4388296 ,  0.21406378],\n",
       "        [ 0.1235108 ,  0.11301893, -0.33017338, -1.36320763],\n",
       "        [-2.38341194, -0.01001572,  0.52415271,  1.58546946],\n",
       "        [-1.97368552, -0.12112751,  0.00569015,  0.33803262],\n",
       "        [-0.53941319, -0.2833481 , -0.02000113, -0.39568992]]),\n",
       " array([ 8,  8, 33,  2,  8]))"
      ]
     },
     "execution_count": 12,
     "metadata": {},
     "output_type": "execute_result"
    }
   ],
   "source": [
    "with open(\"vbmc_test_save.pkl\", \"rb\") as f:\n",
    "    vbmc_2 = dill.load(f)\n",
    "vbmc_2.vp.sample(5)"
   ]
  },
  {
   "cell_type": "markdown",
   "metadata": {},
   "source": [
    "## 5. Conclusions\n",
    "\n",
    "In this notebook, we have given a brief overview of `pyvbmc`'s output diagnostics, and shown how to save, load, and resume optimization. \n",
    "\n",
    "In the next notebook, we will illustrate running `pyvbmc` multiple times in order to validate the results."
   ]
  },
  {
   "cell_type": "markdown",
   "metadata": {},
   "source": [
    "## Example 3: full code\n",
    "\n",
    "The following cell includes in a single place all the code used in Example 3, without the extra fluff."
   ]
  },
  {
   "cell_type": "code",
   "execution_count": 13,
   "metadata": {},
   "outputs": [
    {
     "ename": "AssertionError",
     "evalue": "",
     "output_type": "error",
     "traceback": [
      "\u001b[0;31m---------------------------------------------------------------------------\u001b[0m",
      "\u001b[0;31mAssertionError\u001b[0m                            Traceback (most recent call last)",
      "Input \u001b[0;32mIn [13]\u001b[0m, in \u001b[0;36m<cell line: 1>\u001b[0;34m()\u001b[0m\n\u001b[0;32m----> 1\u001b[0m \u001b[38;5;28;01massert\u001b[39;00m \u001b[38;5;28;01mFalse\u001b[39;00m \u001b[38;5;66;03m# By default, don't run this cell\u001b[39;00m\n\u001b[1;32m      2\u001b[0m \u001b[38;5;28;01mimport\u001b[39;00m \u001b[38;5;21;01mnumpy\u001b[39;00m \u001b[38;5;28;01mas\u001b[39;00m \u001b[38;5;21;01mnp\u001b[39;00m\n\u001b[1;32m      3\u001b[0m \u001b[38;5;28;01mimport\u001b[39;00m \u001b[38;5;21;01mscipy\u001b[39;00m\u001b[38;5;21;01m.\u001b[39;00m\u001b[38;5;21;01mstats\u001b[39;00m \u001b[38;5;28;01mas\u001b[39;00m \u001b[38;5;21;01mscs\u001b[39;00m\n",
      "\u001b[0;31mAssertionError\u001b[0m: "
     ]
    }
   ],
   "source": [
    "assert False  # By default, don't run this cell\n",
    "import numpy as np\n",
    "import scipy.stats as scs\n",
    "from scipy.optimize import minimize\n",
    "from pyvbmc.vbmc import VBMC\n",
    "import dill\n",
    "\n",
    "\n",
    "D = 4  # A four-dimensional problem\n",
    "prior_mu = np.zeros(D)\n",
    "prior_var = 3 * np.ones(D)\n",
    "\n",
    "\n",
    "def log_prior(theta):\n",
    "    \"\"\"Multivariate normal prior on theta.\"\"\"\n",
    "    cov = np.diag(prior_var)\n",
    "    return scs.multivariate_normal(prior_mu, cov).logpdf(theta)\n",
    "\n",
    "\n",
    "def log_likelihood(theta, data=np.ones(D)):\n",
    "    \"\"\"D-dimensional Rosenbrock's banana function.\"\"\"\n",
    "    # In this simple demo the data just translates the parameters:\n",
    "    theta = np.atleast_2d(theta)\n",
    "    theta = theta + data\n",
    "\n",
    "    x, y = theta[:, :-1], theta[:, 1:]\n",
    "    return -np.sum((x**2 - y) ** 2 + (x - 1) ** 2 / 100, axis=1)\n",
    "\n",
    "\n",
    "def log_joint(theta, data=np.ones(D)):\n",
    "    return log_likelihood(theta, data) + log_prior(theta)\n",
    "\n",
    "\n",
    "LB = np.full(D, -np.inf)  # Lower bounds\n",
    "UB = np.full(D, np.inf)  # Upper bounds\n",
    "PLB = np.full(D, prior_mu - np.sqrt(prior_var))  # Plausible lower bounds\n",
    "PUB = np.full(D, prior_mu + np.sqrt(prior_var))  # Plausible upper bounds\n",
    "\n",
    "\n",
    "np.random.seed(42)\n",
    "x0 = np.random.uniform(PLB, PUB)  # Random point inside plausible box\n",
    "x0 = minimize(lambda t: -log_joint(t), x0).x\n",
    "\n",
    "\n",
    "# Limit number of function evaluations\n",
    "options = {\n",
    "    \"max_fun_evals\": 10 * D,\n",
    "}\n",
    "# We can specify either the log-joint, or the log-likelihood and log-prior.\n",
    "# In other words, the following lines are equivalent:\n",
    "vbmc = VBMC(\n",
    "    log_likelihood,\n",
    "    x0,\n",
    "    LB,\n",
    "    UB,\n",
    "    PLB,\n",
    "    PUB,\n",
    "    user_options=options,\n",
    "    log_prior=log_prior,\n",
    ")\n",
    "# vbmc = VBMC(\n",
    "#     log_joint,\n",
    "#     x0, LB, UB, PLB, PUB, user_options=options,\n",
    "# )\n",
    "\n",
    "\n",
    "vp, elbo, elbo_sd, success_flag, info = vbmc.optimize()\n",
    "\n",
    "\n",
    "success_flag\n",
    "\n",
    "\n",
    "info\n",
    "\n",
    "\n",
    "# This verbose syntax is required to avoid unintentionally modifying\n",
    "# options after initialization:\n",
    "vbmc.options.__setitem__(\"max_fun_evals\", 50 * (D + 2), force=True)\n",
    "vbmc.optimize()\n",
    "\n",
    "\n",
    "with open(\"vbmc_test_save.pkl\", \"wb\") as f:\n",
    "    dill.dump(vbmc, f)\n",
    "\n",
    "\n",
    "with open(\"vbmc_test_save.pkl\", \"rb\") as f:\n",
    "    vbmc_2 = dill.load(f)\n",
    "vbmc_2.vp.sample(5)"
   ]
  },
  {
   "cell_type": "markdown",
   "metadata": {},
   "source": [
    "## Acknowledgments\n",
    "\n",
    "Work on the `pyvbmc` package was funded by the [Finnish Center for Artificial Intelligence FCAI](https://fcai.fi/)."
   ]
  }
 ],
 "metadata": {
  "interpreter": {
   "hash": "cf2c3e35bb9d622e963fe7adafe5d3d77a0ee2382f730f35475e9a620896d84b"
  },
  "kernelspec": {
   "display_name": "Python 3 (ipykernel)",
   "language": "python",
   "name": "python3"
  },
  "language_info": {
   "codemirror_mode": {
    "name": "ipython",
    "version": 3
   },
   "file_extension": ".py",
   "mimetype": "text/x-python",
   "name": "python",
   "nbconvert_exporter": "python",
   "pygments_lexer": "ipython3",
   "version": "3.9.12"
  }
 },
 "nbformat": 4,
 "nbformat_minor": 2
}
