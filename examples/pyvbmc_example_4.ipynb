{
 "cells": [
  {
   "cell_type": "markdown",
   "metadata": {},
   "source": [
    "# Example 4: Multiple runs as validation"
   ]
  },
  {
   "cell_type": "markdown",
   "metadata": {},
   "source": [
    "Here we explore running `pyvbmc` multiple times in order to validate the results: if the final variational posteriors obtained from several different initial points are consistent, we can be more confident that the results are correct.\n",
    "\n",
    "This notebook is Part 4 of a series of notebooks in which we present various example usages for VBMC with the `pyvbmc` package."
   ]
  },
  {
   "cell_type": "code",
   "execution_count": 14,
   "metadata": {},
   "outputs": [],
   "source": [
    "import numpy as np\n",
    "import scipy.stats as scs\n",
    "from scipy.optimize import minimize\n",
    "from pyvbmc.vbmc import VBMC\n",
    "import matplotlib.pyplot as plt\n",
    "import dill"
   ]
  },
  {
   "cell_type": "markdown",
   "metadata": {},
   "source": [
    "## 1. Model definition: log likelihood, log prior, and log joint\n",
    "\n",
    "We use the same toy target function as in Example 1, a broad [Rosenbrock's banana function](https://en.wikipedia.org/wiki/Rosenbrock_function) in $D = 2$, with unbounded parameters:"
   ]
  },
  {
   "cell_type": "code",
   "execution_count": 2,
   "metadata": {},
   "outputs": [],
   "source": [
    "D = 2  # We'll use a 2-D problem for a quicker demonstration\n",
    "prior_mu = np.zeros(D)\n",
    "prior_var = 3 * np.ones(D)\n",
    "\n",
    "\n",
    "def log_prior(theta):\n",
    "    \"\"\"Multivariate normal prior on theta.\"\"\"\n",
    "    cov = np.diag(prior_var)\n",
    "    return scs.multivariate_normal(prior_mu, cov).logpdf(theta)\n",
    "\n",
    "\n",
    "# log likelihood (Rosenbrock)\n",
    "def log_likelihood(theta):\n",
    "    \"\"\"D-dimensional Rosenbrock's banana function.\"\"\"\n",
    "    theta = np.atleast_2d(theta)\n",
    "\n",
    "    x, y = theta[:, :-1], theta[:, 1:]\n",
    "    return -np.sum((x**2 - y) ** 2 + (x - 1) ** 2 / 100, axis=1)\n",
    "\n",
    "\n",
    "# Full model:\n",
    "def log_joint(theta, data=np.ones(D)):\n",
    "    return log_likelihood(theta) + log_prior(theta)\n",
    "\n",
    "\n",
    "LB = np.full((1, D), -np.inf)  # Lower bounds\n",
    "UB = np.full((1, D), np.inf)  # Upper bounds\n",
    "PLB = np.full((1, D), prior_mu - np.sqrt(prior_var))  # Plausible lower bounds\n",
    "PUB = np.full((1, D), prior_mu + np.sqrt(prior_var))  # Plausible upper bounds\n",
    "options = {\n",
    "    \"max_fun_evals\": 50 * D  # Slightly reduced from 50 * (D + 2), for speed\n",
    "}"
   ]
  },
  {
   "cell_type": "markdown",
   "metadata": {},
   "source": [
    "For validation, we recommend running `pyvbmc` 3-4 times from different initial points:"
   ]
  },
  {
   "cell_type": "code",
   "execution_count": 3,
   "metadata": {
    "scrolled": true
   },
   "outputs": [
    {
     "name": "stdout",
     "output_type": "stream",
     "text": [
      "PyVBMC run 0 of 3\n",
      "Reshaping x0 to row vector.\n",
      "Beginning variational optimization assuming EXACT observations of the log-joint.\n",
      " Iteration  f-count    Mean[ELBO]    Std[ELBO]    sKL-iter[q]   K[q]  Convergence  Action\n",
      "     0         10          -2.11         0.74    153991.60        2        inf     start warm-up\n",
      "     1         15          -1.80         0.12         2.99        2        inf     \n",
      "     2         20          -1.79         0.01         0.21        2       4.97     \n",
      "     3         25          -1.81         0.00         0.02        2      0.515     \n",
      "     4         30          -1.82         0.00         0.03        2      0.648     end warm-up\n",
      "     5         35          -1.80         0.00         0.00        2       0.13     \n",
      "     6         40          -1.81         0.00         0.00        2      0.129     \n",
      "     7         45          -1.75         0.00         0.02        5      0.672     \n",
      "     8         50          -1.59         0.00         0.06        8       2.02     rotoscale, undo rotoscale\n",
      "     9         55          -1.57         0.00         0.00        9      0.189     \n",
      "    10         60          -1.55         0.00         0.00       12      0.117     \n",
      "    11         65          -1.55         0.00         0.00       14     0.0191     \n",
      "    12         70          -1.54         0.00         0.00       14     0.0649     \n",
      "    13         75          -1.55         0.00         0.00       14     0.0296     stable\n",
      "   inf         75          -1.52         0.00         0.00       50     0.0296     finalize\n",
      "Inference terminated: variational solution stable for options.tol_stable_count fcn evaluations.\n",
      "Estimated ELBO: -1.524 +/-0.000.\n",
      "PyVBMC run 1 of 3\n",
      "Reshaping x0 to row vector.\n",
      "Beginning variational optimization assuming EXACT observations of the log-joint.\n",
      " Iteration  f-count    Mean[ELBO]    Std[ELBO]    sKL-iter[q]   K[q]  Convergence  Action\n",
      "     0         10          -1.02         0.78    149104.92        2        inf     start warm-up\n",
      "     1         15          -1.89         0.03         3.49        2        inf     \n",
      "     2         20          -1.83         0.00         0.01        2      0.424     \n",
      "     3         25          -1.85         0.00         0.00        2     0.0806     \n",
      "     4         30          -1.86         0.00         0.00        2     0.0807     end warm-up\n",
      "     5         35          -1.84         0.00         0.00        2      0.128     \n",
      "     6         40          -1.84         0.00         0.00        2       0.05     \n",
      "     7         45          -1.72         0.00         0.04        5       1.43     \n",
      "     8         50          -1.58         0.00         0.06        6        1.9     rotoscale, undo rotoscale\n",
      "     9         55          -1.57         0.00         0.01        7      0.233     \n",
      "    10         60          -1.55         0.00         0.00       10     0.0825     \n",
      "    11         65          -1.54         0.00         0.01       13      0.209     \n",
      "    12         70          -1.54         0.00         0.00       15     0.0614     \n",
      "    13         75          -1.53         0.00         0.00       15      0.042     stable\n",
      "   inf         75          -1.52         0.00         0.00       50      0.042     finalize\n",
      "Inference terminated: variational solution stable for options.tol_stable_count fcn evaluations.\n",
      "Estimated ELBO: -1.522 +/-0.000.\n",
      "PyVBMC run 2 of 3\n",
      "Reshaping x0 to row vector.\n",
      "Beginning variational optimization assuming EXACT observations of the log-joint.\n",
      " Iteration  f-count    Mean[ELBO]    Std[ELBO]    sKL-iter[q]   K[q]  Convergence  Action\n",
      "     0         10          -2.05         0.59     36213.97        2        inf     start warm-up\n",
      "     1         15          -1.96         0.13         0.27        2        inf     \n",
      "     2         20          -1.81         0.01         0.01        2      0.839     \n",
      "     3         25          -1.81         0.00         0.00        2      0.118     \n",
      "     4         30          -1.80         0.00         0.01        2      0.287     end warm-up\n",
      "     5         35          -1.81         0.00         0.00        2     0.0743     \n",
      "     6         40          -1.81         0.00         0.00        2     0.0629     \n",
      "     7         45          -1.60         0.00         0.13        5       3.66     \n",
      "     8         50          -1.59         0.00         0.00        6     0.0613     \n",
      "     9         55          -1.57         0.00         0.00        9     0.0952     rotoscale, undo rotoscale\n",
      "    10         60          -1.55         0.00         0.00       12      0.115     \n",
      "    11         65          -1.55         0.00         0.00       15     0.0322     \n",
      "    12         70          -1.57         0.00         0.00       15     0.0806     stable\n",
      "   inf         70          -1.53         0.00         0.00       50     0.0806     finalize\n",
      "Inference terminated: variational solution stable for options.tol_stable_count fcn evaluations.\n",
      "Estimated ELBO: -1.530 +/-0.001.\n"
     ]
    }
   ],
   "source": [
    "np.random.seed(42)\n",
    "n_runs = 3\n",
    "vps, elbos, elbo_sds, success_flags, result_dicts = [], [], [], [], []\n",
    "for i in range(n_runs):\n",
    "    print(f\"PyVBMC run {i} of {n_runs}\")\n",
    "\n",
    "    # Determine initial point x0:\n",
    "    if i == 0:\n",
    "        x0 = prior_mu  # First run, start from prior mean\n",
    "    else:\n",
    "        x0 = np.random.uniform(PLB, PUB)  # Other runs, randomize\n",
    "    # Preliminary maximum a posteriori (MAP) estimation:\n",
    "    x0 = minimize(lambda t: -log_joint(t), x0).x\n",
    "\n",
    "    # Run pyvbmc:\n",
    "    vbmc = VBMC(\n",
    "        log_joint,\n",
    "        x0,\n",
    "        LB,\n",
    "        UB,\n",
    "        PLB,\n",
    "        PUB,\n",
    "        user_options=options,\n",
    "    )\n",
    "    vp, elbo, elbo_sd, success_flag, result_dict = vbmc.optimize()\n",
    "\n",
    "    # Record the results:\n",
    "    vps.append(vp)\n",
    "    elbos.append(elbo)\n",
    "    elbo_sds.append(elbo_sd)\n",
    "    success_flags.append(success_flag)\n",
    "    result_dicts.append(result_dict)"
   ]
  },
  {
   "cell_type": "markdown",
   "metadata": {},
   "source": [
    "We now perform some diagnostic checks on the variational solution. First, we check that the ELBO's from different runs are close to each other (i.e. with a difference much smaller than 1):"
   ]
  },
  {
   "cell_type": "code",
   "execution_count": 4,
   "metadata": {},
   "outputs": [
    {
     "name": "stdout",
     "output_type": "stream",
     "text": [
      "[-1.5239716121200555, -1.5222209209220507, -1.5304336713095317]\n"
     ]
    }
   ],
   "source": [
    "print(elbos)"
   ]
  },
  {
   "cell_type": "markdown",
   "metadata": {},
   "source": [
    "Then, we check that the variational posteriors from distinct runs are similar. As a measure of similarity, we compute the Kullback-Leibler divergence between each pair:"
   ]
  },
  {
   "cell_type": "code",
   "execution_count": 5,
   "metadata": {},
   "outputs": [],
   "source": [
    "kl_matrix = np.zeros((n_runs, n_runs))\n",
    "for i in range(n_runs):\n",
    "    for j in range(i, n_runs):\n",
    "        # The `kldiv` method computes the divergence in both directions:\n",
    "        kl_ij, kl_ji = vps[i].kldiv(vp2=vps[j])\n",
    "        kl_matrix[i, j] = kl_ij\n",
    "        kl_matrix[j, i] = kl_ji"
   ]
  },
  {
   "cell_type": "markdown",
   "metadata": {},
   "source": [
    "Note that the KL divergence is asymmetric, so we have an asymmetric matrix:"
   ]
  },
  {
   "cell_type": "code",
   "execution_count": 6,
   "metadata": {},
   "outputs": [
    {
     "name": "stdout",
     "output_type": "stream",
     "text": [
      "[[0.         0.02111898 0.01194109]\n",
      " [0.0365417  0.         0.02091112]\n",
      " [0.011956   0.01477664 0.        ]]\n"
     ]
    }
   ],
   "source": [
    "print(kl_matrix)"
   ]
  },
  {
   "cell_type": "markdown",
   "metadata": {},
   "source": [
    "Ideally, we want all KL divergence matrix entries to be much smaller than 1. For a qualitative validation, we recommend to also visually inspect the posteriors:"
   ]
  },
  {
   "cell_type": "code",
   "execution_count": 7,
   "metadata": {},
   "outputs": [
    {
     "data": {
      "image/png": "[encoded data removed]",
      "text/plain": [
       "<Figure size 432x288 with 1 Axes>"
      ]
     },
     "metadata": {
      "needs_background": "light"
     },
     "output_type": "display_data"
    }
   ],
   "source": [
    "for vp in vps:\n",
    "    samples, __ = vp.sample(1000)\n",
    "    plt.scatter(samples[:, 0], samples[:, 1], alpha=1 / len(vps), marker=\".\")"
   ]
  },
  {
   "cell_type": "markdown",
   "metadata": {},
   "source": [
    "We can also check that convergence was acheived in all runs, according to `pyvbmc` (we want `success_flag = True` for each run):"
   ]
  },
  {
   "cell_type": "code",
   "execution_count": 8,
   "metadata": {},
   "outputs": [
    {
     "data": {
      "text/plain": [
       "[True, True, True]"
      ]
     },
     "execution_count": 8,
     "metadata": {},
     "output_type": "execute_result"
    }
   ],
   "source": [
    "success_flags"
   ]
  },
  {
   "cell_type": "markdown",
   "metadata": {},
   "source": [
    "Finally, we can pick the variational solution with highest ELCBO (the lower confidence bound on the ELBO)."
   ]
  },
  {
   "cell_type": "code",
   "execution_count": 9,
   "metadata": {},
   "outputs": [
    {
     "data": {
      "text/plain": [
       "1"
      ]
     },
     "execution_count": 9,
     "metadata": {},
     "output_type": "execute_result"
    }
   ],
   "source": [
    "beta_lcb = 3.0  # Standard confidence parameter (in standard deviations)\n",
    "# beta_lcb = 5.0  # This is more conservative\n",
    "elcbos = np.array(elbos) - beta_lcb * np.array(elbo_sds)\n",
    "idx_best = np.argmax(elcbos)\n",
    "idx_best"
   ]
  },
  {
   "cell_type": "markdown",
   "metadata": {},
   "source": [
    "We'll save this best posterior to a file, so we can compare it against our results in the next notebook:"
   ]
  },
  {
   "cell_type": "code",
   "execution_count": 13,
   "metadata": {},
   "outputs": [],
   "source": [
    "with open(\"vbmc_noise_free.pkl\", \"wb\") as f:\n",
    "    dill.dump(vbmc, f)"
   ]
  },
  {
   "cell_type": "markdown",
   "metadata": {},
   "source": [
    "## 5. Conclusions\n",
    "\n",
    "In this notebook, we have shown you some techniques to validate the results of `pyvbmc` by comparing statitics across multiple runs.\n",
    "\n",
    "In the next notebook, we will demonstrate using `pyvbmc` with likelihoods which can only be estimated noisily."
   ]
  },
  {
   "cell_type": "markdown",
   "metadata": {},
   "source": [
    "## Example 4: full code\n",
    "\n",
    "The following cell includes in a single place all the code used in Example 4, without the extra fluff."
   ]
  },
  {
   "cell_type": "code",
   "execution_count": 10,
   "metadata": {},
   "outputs": [
    {
     "ename": "AssertionError",
     "evalue": "",
     "output_type": "error",
     "traceback": [
      "\u001b[0;31m---------------------------------------------------------------------------\u001b[0m",
      "\u001b[0;31mAssertionError\u001b[0m                            Traceback (most recent call last)",
      "Input \u001b[0;32mIn [10]\u001b[0m, in \u001b[0;36m<cell line: 1>\u001b[0;34m()\u001b[0m\n\u001b[0;32m----> 1\u001b[0m \u001b[38;5;28;01massert\u001b[39;00m \u001b[38;5;28;01mFalse\u001b[39;00m  \u001b[38;5;66;03m# By default, don't run this cell\u001b[39;00m\n\u001b[1;32m      2\u001b[0m \u001b[38;5;28;01mimport\u001b[39;00m \u001b[38;5;21;01mnumpy\u001b[39;00m \u001b[38;5;28;01mas\u001b[39;00m \u001b[38;5;21;01mnp\u001b[39;00m\n\u001b[1;32m      3\u001b[0m \u001b[38;5;28;01mimport\u001b[39;00m \u001b[38;5;21;01mscipy\u001b[39;00m\u001b[38;5;21;01m.\u001b[39;00m\u001b[38;5;21;01mstats\u001b[39;00m \u001b[38;5;28;01mas\u001b[39;00m \u001b[38;5;21;01mscs\u001b[39;00m\n",
      "\u001b[0;31mAssertionError\u001b[0m: "
     ]
    }
   ],
   "source": [
    "assert False  # By default, don't run this cell\n",
    "import numpy as np\n",
    "import scipy.stats as scs\n",
    "from scipy.optimize import minimize\n",
    "from pyvbmc.vbmc import VBMC\n",
    "\n",
    "\n",
    "D = 2  # We'll use a 2-D problem for a quicker demonstration\n",
    "prior_mu = np.zeros(D)\n",
    "prior_var = 3 * np.ones(D)\n",
    "\n",
    "\n",
    "def log_prior(theta):\n",
    "    \"\"\"Multivariate normal prior on theta.\"\"\"\n",
    "    cov = np.diag(prior_var)\n",
    "    return scs.multivariate_normal(prior_mu, cov).logpdf(theta)\n",
    "\n",
    "\n",
    "# log likelihood (Rosenbrock)\n",
    "def log_likelihood(theta):\n",
    "    \"\"\"D-dimensional Rosenbrock's banana function.\"\"\"\n",
    "    theta = np.atleast_2d(theta)\n",
    "\n",
    "    x, y = theta[:, :-1], theta[:, 1:]\n",
    "    return -np.sum((x**2 - y) ** 2 + (x - 1) ** 2 / 100, axis=1)\n",
    "\n",
    "\n",
    "# Full model:\n",
    "def log_joint(theta, data=np.ones(D)):\n",
    "    return log_likelihood(theta) + log_prior(theta)\n",
    "\n",
    "\n",
    "LB = np.full((1, D), -np.inf)  # Lower bounds\n",
    "UB = np.full((1, D), np.inf)  # Upper bounds\n",
    "PLB = np.full((1, D), prior_mu - np.sqrt(prior_var))  # Plausible lower bounds\n",
    "PUB = np.full((1, D), prior_mu + np.sqrt(prior_var))  # Plausible upper bounds\n",
    "options = {\n",
    "    \"max_fun_evals\": 50 * D  # Slightly reduced from 50 * (D + 2), for speed\n",
    "}\n",
    "\n",
    "\n",
    "np.random.seed(42)\n",
    "n_runs = 3\n",
    "vps, elbos, elbo_sds, success_flags, result_dicts = [], [], [], [], []\n",
    "for i in range(n_runs):\n",
    "    print(f\"PyVBMC run {i} of {n_runs}\")\n",
    "\n",
    "    # Determine initial point x0:\n",
    "    if i == 0:\n",
    "        x0 = prior_mu  # First run, start from prior mean\n",
    "    else:\n",
    "        x0 = np.random.uniform(PLB, PUB)  # Other runs, randomize\n",
    "    # Preliminary maximum a posteriori (MAP) estimation:\n",
    "    x0 = minimize(lambda t: -log_joint(t), x0).x\n",
    "\n",
    "    # Run pyvbmc:\n",
    "    vbmc = VBMC(\n",
    "        log_joint,\n",
    "        x0,\n",
    "        LB,\n",
    "        UB,\n",
    "        PLB,\n",
    "        PUB,\n",
    "        user_options=options,\n",
    "    )\n",
    "    vp, elbo, elbo_sd, success_flag, result_dict = vbmc.optimize()\n",
    "\n",
    "    # Record the results:\n",
    "    vps.append(vp)\n",
    "    elbos.append(elbo)\n",
    "    elbo_sds.append(elbo_sd)\n",
    "    success_flags.append(success_flag)\n",
    "    result_dicts.append(result_dict)\n",
    "\n",
    "\n",
    "print(elbos)\n",
    "\n",
    "\n",
    "kl_matrix = np.zeros((n_runs, n_runs))\n",
    "for i in range(n_runs):\n",
    "    for j in range(i, n_runs):\n",
    "        # The `kldiv` method computes the divergence in both directions:\n",
    "        kl_ij, kl_ji = vps[i].kldiv(vp2=vps[j])\n",
    "        kl_matrix[i, j] = kl_ij\n",
    "        kl_matrix[j, i] = kl_ji\n",
    "\n",
    "\n",
    "print(kl_matrix)\n",
    "\n",
    "\n",
    "import matplotlib.pyplot as plt\n",
    "\n",
    "\n",
    "for i, vp in enumerate(vps):\n",
    "    samples, __ = vp.sample(1000)\n",
    "    plt.scatter(samples[:, 0], samples[:, 1], alpha=1 / len(vps), marker=\".\")\n",
    "\n",
    "\n",
    "success_flags\n",
    "\n",
    "\n",
    "beta_lcb = 3.0  # Standard confidence parameter (in standard deviations)\n",
    "# beta_lcb = 5.0  # This is more conservative\n",
    "elcbos = np.array(elbos) - beta_lcb * np.array(elbo_sds)\n",
    "idx_best = np.argmax(elcbos)\n",
    "idx_best"
   ]
  },
  {
   "cell_type": "markdown",
   "metadata": {},
   "source": [
    "## Acknowledgments\n",
    "\n",
    "Work on the `pyvbmc` package was funded by the [Finnish Center for Artificial Intelligence FCAI](https://fcai.fi/)."
   ]
  }
 ],
 "metadata": {
  "interpreter": {
   "hash": "cf2c3e35bb9d622e963fe7adafe5d3d77a0ee2382f730f35475e9a620896d84b"
  },
  "kernelspec": {
   "display_name": "Python 3 (ipykernel)",
   "language": "python",
   "name": "python3"
  },
  "language_info": {
   "codemirror_mode": {
    "name": "ipython",
    "version": 3
   },
   "file_extension": ".py",
   "mimetype": "text/x-python",
   "name": "python",
   "nbconvert_exporter": "python",
   "pygments_lexer": "ipython3",
   "version": "3.9.12"
  }
 },
 "nbformat": 4,
 "nbformat_minor": 2
}
