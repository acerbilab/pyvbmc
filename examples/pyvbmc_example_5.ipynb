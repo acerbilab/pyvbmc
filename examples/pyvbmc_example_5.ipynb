{
 "cells": [
  {
   "cell_type": "markdown",
   "metadata": {},
   "source": [
    "# Example 5: Noisy log-likelihood evaluations"
   ]
  },
  {
   "cell_type": "markdown",
   "metadata": {},
   "source": [
    "In this notebook, we demonstrate running `pyvbmc` with noisy evaluations of the log-likelihood. Here we emulate a noisy scenario by adding random Gaussian noise to the log-likelihood. In practice, noisy evaluations often emerge from estimation techniques for simulation-based models, such as [Inverse Binomial Sampling (IBS)](https://github.com/lacerbi/ibs). However the noise estimate is obtained, it is allowed to be (and in practice, often is) _heteroskedastic_: that is, the amount of noise in the estimate may vary across parameter space.\n",
    "\n",
    "This notebook is Part 5 of a series of notebooks in which we present various example usages for VBMC with the `pyvbmc` package."
   ]
  },
  {
   "cell_type": "code",
   "execution_count": 1,
   "metadata": {},
   "outputs": [],
   "source": [
    "import numpy as np\n",
    "import scipy.stats as scs\n",
    "from pyvbmc.vbmc import VBMC\n",
    "import dill\n",
    "import matplotlib.pyplot as plt"
   ]
  },
  {
   "cell_type": "markdown",
   "metadata": {},
   "source": [
    "## 1. Model definition: log likelihood, log prior, and log joint\n",
    "\n",
    "We use the same toy target function as in Example 1, a broad [Rosenbrock's banana function](https://en.wikipedia.org/wiki/Rosenbrock_function) in $D = 2$. But this time, we add random heteroskedastic Gaussian noise to the function evaluations."
   ]
  },
  {
   "cell_type": "code",
   "execution_count": 2,
   "metadata": {},
   "outputs": [],
   "source": [
    "D = 2  # We'll use a 2-D problem, again for speed\n",
    "prior_mu = np.zeros(D)\n",
    "prior_var = 3 * np.ones(D)\n",
    "LB = np.full((1, D), -np.inf)  # Lower bounds\n",
    "UB = np.full((1, D), np.inf)  # Upper bounds\n",
    "PLB = np.full((1, D), prior_mu - np.sqrt(prior_var))  # Plausible lower bounds\n",
    "PUB = np.full((1, D), prior_mu + np.sqrt(prior_var))  # Plausible upper\n",
    "\n",
    "\n",
    "def log_prior(theta):\n",
    "    \"\"\"Multivariate normal prior on theta, same as before.\"\"\"\n",
    "    cov = np.diag(prior_var)\n",
    "    return scs.multivariate_normal(prior_mu, cov).logpdf(theta)"
   ]
  },
  {
   "cell_type": "markdown",
   "metadata": {},
   "source": [
    "The setup and prior function remain unchanged. For the likelihood, we'll take the Rosenbrock function and add some simulated noise to it. The noise here is arbitrary, but notice that the amount depends on the parameters $\\theta$, with more noise when $\\theta$ is close to 0.\n",
    "\n",
    "In the noisy-likelihood setting, the log-joint (or log-likelihood, if the prior is passed to `pyvbmc` separately) should return a pair of values: the noisy log-density as the first, and an estimate of the standard deviation of the noise as the second."
   ]
  },
  {
   "cell_type": "code",
   "execution_count": 3,
   "metadata": {},
   "outputs": [],
   "source": [
    "# log likelihood (Rosenbrock)\n",
    "def log_likelihood(theta):\n",
    "    \"\"\"D-dimensional Rosenbrock's banana function.\"\"\"\n",
    "    theta = np.atleast_2d(theta)\n",
    "    n, D = theta.shape\n",
    "\n",
    "    noise_sd = 4.0 / (1.0 + np.linalg.norm(theta))\n",
    "\n",
    "    x, y = theta[:, :-1], theta[:, 1:]\n",
    "    base_density = -np.sum((x**2 - y) ** 2 + (x - 1) ** 2 / 100, axis=1)\n",
    "    noisy_estimate = base_density + noise_sd * np.random.normal(size=(n, 1))\n",
    "    return noisy_estimate, noise_sd"
   ]
  },
  {
   "cell_type": "markdown",
   "metadata": {},
   "source": [
    "Since the log-likelihood function now has two outputs, we cannot directly sum the log-prior and log-likelihood. So our log-joint function looks slightly different. If you choose to pass the log-likelihood and log-prior separately, `pyvbmc` will handle this part for you."
   ]
  },
  {
   "cell_type": "code",
   "execution_count": 4,
   "metadata": {},
   "outputs": [],
   "source": [
    "# Full model:\n",
    "def log_joint(theta, data=np.ones(D)):\n",
    "    log_p = log_prior(theta)\n",
    "    log_l, noise_est = log_likelihood(theta)\n",
    "    # For the joint, we have to add log densities and carry-through the noise estimate.\n",
    "    return log_p + log_l, noise_est\n",
    "\n",
    "\n",
    "x0 = np.zeros((1, D))  # Initial point"
   ]
  },
  {
   "cell_type": "markdown",
   "metadata": {},
   "source": [
    "We omit optimizing `x0` to find a good starting point, as previously suggested, because naive optimization would fail badly for a noisy objective anyway. For noisy optimization, consider using [BADS](https://github.com/lacerbi/bads) or its Python port `pybads` --- coming soon!\n",
    "\n",
    "## Setting up the `vbmc` instance\n",
    "\n",
    "As a final step, we have to tell `pyvbmc` that we are working with a noisy likelihood, by turning on the `specify_target_noise` option. Otherwise `pyvbmc` will throw an `InvalidFuncValue` error, indicating that the target function is returning unexpected values."
   ]
  },
  {
   "cell_type": "code",
   "execution_count": 5,
   "metadata": {},
   "outputs": [],
   "source": [
    "options = {\"specify_target_noise\": True}\n",
    "vbmc = VBMC(\n",
    "    log_joint,\n",
    "    x0,\n",
    "    LB,\n",
    "    UB,\n",
    "    PLB,\n",
    "    PUB,\n",
    "    user_options=options,\n",
    ")"
   ]
  },
  {
   "cell_type": "code",
   "execution_count": 6,
   "metadata": {},
   "outputs": [
    {
     "name": "stdout",
     "output_type": "stream",
     "text": [
      "Beginning variational optimization assuming NOISY observations of the log-joint\n",
      " Iteration  f-count    Mean[ELBO]    Std[ELBO]    sKL-iter[q]   K[q]  Convergence  Action\n",
      "     0         10          -2.57         0.99    217491.45        2        inf     start warm-up\n",
      "     1         15          -3.27         1.04         2.03        2        inf     \n",
      "     2         20          -2.54         0.86         6.61        2        157     \n",
      "     3         25          -2.29         0.58         0.00        2      0.699     \n",
      "     4         30          -2.71         0.47         0.05        2       1.92     \n",
      "     5         35          -2.70         0.42         0.06        2       1.81     \n",
      "     6         40          -2.73         0.40         0.34        2       8.41     \n",
      "     7         45          -2.33         0.37         0.61        2         15     \n",
      "     8         50          -2.49         0.31         0.08        2       2.33     end warm-up\n",
      "     9         55          -2.24         0.33         0.01        2       0.66     \n",
      "    10         60          -2.31         0.35         0.03        2       1.13     \n",
      "    11         65          -2.06         0.28         0.00        3      0.486     \n",
      "    12         70          -1.97         0.28         0.03        6      0.974     \n",
      "    13         75          -1.75         0.21         0.01        9      0.461     rotoscale, undo rotoscale\n",
      "    14         80          -1.72         0.18         0.05       11       1.32     \n",
      "    15         85          -1.64         0.17         0.04       11       1.15     \n",
      "    16         90          -1.49         0.15         0.01       11       0.37     \n",
      "    17         95          -1.50         0.15         0.00       11      0.141     \n",
      "    18        100          -1.46         0.13         0.00       12      0.242     \n",
      "    19        105          -1.50         0.13         0.00       12      0.189     \n",
      "    20        110          -1.43         0.12         0.00       11      0.208     \n",
      "    21        115          -1.43         0.12         0.00       11      0.105     \n",
      "    22        120          -1.44         0.11         0.00       12      0.114     \n",
      "    23        125          -1.44         0.11         0.00       12      0.174     \n",
      "    24        130          -1.41         0.10         0.01       11      0.225     rotoscale, undo rotoscale\n",
      "    25        135          -1.43         0.10         0.00       11      0.165     \n",
      "    26        140          -1.48         0.10         0.01       11      0.266     stable\n",
      "   inf        140          -1.47         0.10         0.00       50      0.266     finalize\n",
      "Inference terminated: variational solution stable for options.tol_stable_count fcn evaluations.\n",
      "Estimated ELBO: -1.466 +/-0.098.\n"
     ]
    }
   ],
   "source": [
    "np.random.seed(42)\n",
    "vp, elbo, elbo_sd, success_flag, results_dict = vbmc.optimize()"
   ]
  },
  {
   "cell_type": "markdown",
   "metadata": {},
   "source": [
    "`pyvbmc` found a solution, even in the presence of noise. Let's compare to the variational posterior we found in the previous notebook, for the noise-free version of the same problem."
   ]
  },
  {
   "cell_type": "code",
   "execution_count": 7,
   "metadata": {},
   "outputs": [
    {
     "data": {
      "text/plain": [
       "array([0.        , 0.73719565])"
      ]
     },
     "execution_count": 7,
     "metadata": {},
     "output_type": "execute_result"
    }
   ],
   "source": [
    "with open(\"vbmc_noise_free.pkl\", \"rb\") as f:\n",
    "    vbmc_2 = dill.load(f)\n",
    "# KL divergence between this VP and the noise-free VP:\n",
    "vbmc.vp.kldiv(vp2=vbmc_2.vp)"
   ]
  },
  {
   "cell_type": "markdown",
   "metadata": {},
   "source": [
    "The KL divergence in both directions is small, and the ELBO is close to what we obtained before. We can also compare the densities visually and see that they are quite similar despite the noisy target:"
   ]
  },
  {
   "cell_type": "code",
   "execution_count": 8,
   "metadata": {},
   "outputs": [
    {
     "data": {
      "image/png": "[encoded data removed]",
      "text/plain": [
       "<Figure size 432x288 with 1 Axes>"
      ]
     },
     "metadata": {
      "needs_background": "light"
     },
     "output_type": "display_data"
    }
   ],
   "source": [
    "for vp in [vbmc.vp, vbmc_2.vp]:\n",
    "    samples, __ = vp.sample(1000)\n",
    "    plt.scatter(samples[:, 0], samples[:, 1], alpha=0.5, marker=\".\")"
   ]
  },
  {
   "cell_type": "markdown",
   "metadata": {},
   "source": [
    "## 5. Conclusions\n",
    "\n",
    "In this notebook, we have illustrated how to use `pyvbmc` on a model with a noisy likelihood. Even in the presence of significant noise, `pyvbmc` can find a good variational solution in relatively few function evaluations."
   ]
  },
  {
   "cell_type": "markdown",
   "metadata": {},
   "source": [
    "## Example 5: full code\n",
    "\n",
    "The following cell includes in a single place all the code used in Example 5, without the extra fluff."
   ]
  },
  {
   "cell_type": "code",
   "execution_count": 9,
   "metadata": {},
   "outputs": [
    {
     "ename": "AssertionError",
     "evalue": "",
     "output_type": "error",
     "traceback": [
      "\u001b[0;31m---------------------------------------------------------------------------\u001b[0m",
      "\u001b[0;31mAssertionError\u001b[0m                            Traceback (most recent call last)",
      "Input \u001b[0;32mIn [9]\u001b[0m, in \u001b[0;36m<cell line: 1>\u001b[0;34m()\u001b[0m\n\u001b[0;32m----> 1\u001b[0m \u001b[38;5;28;01massert\u001b[39;00m \u001b[38;5;28;01mFalse\u001b[39;00m  \u001b[38;5;66;03m# By default, don't run this cell\u001b[39;00m\n\u001b[1;32m      2\u001b[0m \u001b[38;5;28;01mimport\u001b[39;00m \u001b[38;5;21;01mnumpy\u001b[39;00m \u001b[38;5;28;01mas\u001b[39;00m \u001b[38;5;21;01mnp\u001b[39;00m\n\u001b[1;32m      3\u001b[0m \u001b[38;5;28;01mimport\u001b[39;00m \u001b[38;5;21;01mscipy\u001b[39;00m\u001b[38;5;21;01m.\u001b[39;00m\u001b[38;5;21;01mstats\u001b[39;00m \u001b[38;5;28;01mas\u001b[39;00m \u001b[38;5;21;01mscs\u001b[39;00m\n",
      "\u001b[0;31mAssertionError\u001b[0m: "
     ]
    }
   ],
   "source": [
    "assert False  # By default, don't run this cell\n",
    "import numpy as np\n",
    "import scipy.stats as scs\n",
    "from pyvbmc.vbmc import VBMC\n",
    "import dill\n",
    "import matplotlib.pyplot as plt\n",
    "\n",
    "\n",
    "D = 2  # We'll use a 2-D problem, again for speed\n",
    "prior_mu = np.zeros(D)\n",
    "prior_var = 3 * np.ones(D)\n",
    "LB = np.full((1, D), -np.inf)  # Lower bounds\n",
    "UB = np.full((1, D), np.inf)  # Upper bounds\n",
    "PLB = np.full((1, D), prior_mu - np.sqrt(prior_var))  # Plausible lower bounds\n",
    "PUB = np.full((1, D), prior_mu + np.sqrt(prior_var))  # Plausible upper\n",
    "\n",
    "\n",
    "def log_prior(theta):\n",
    "    \"\"\"Multivariate normal prior on theta, same as before.\"\"\"\n",
    "    cov = np.diag(prior_var)\n",
    "    return scs.multivariate_normal(prior_mu, cov).logpdf(theta)\n",
    "\n",
    "\n",
    "# log likelihood (Rosenbrock)\n",
    "def log_likelihood(theta):\n",
    "    \"\"\"D-dimensional Rosenbrock's banana function.\"\"\"\n",
    "    theta = np.atleast_2d(theta)\n",
    "    n, D = theta.shape\n",
    "\n",
    "    noise_sd = 4.0 / (1.0 + np.linalg.norm(theta))\n",
    "\n",
    "    x, y = theta[:, :-1], theta[:, 1:]\n",
    "    base_density = -np.sum((x**2 - y) ** 2 + (x - 1) ** 2 / 100, axis=1)\n",
    "    noisy_estimate = base_density + noise_sd * np.random.normal(size=(n, 1))\n",
    "    return noisy_estimate, noise_sd\n",
    "\n",
    "\n",
    "# Full model:\n",
    "def log_joint(theta, data=np.ones(D)):\n",
    "    log_p = log_prior(theta)\n",
    "    log_l, noise_est = log_likelihood(theta)\n",
    "    # For the joint, we have to add log densities and carry-through the noise estimate.\n",
    "    return log_p + log_l, noise_est\n",
    "\n",
    "\n",
    "x0 = np.zeros((1, D))  # Initial point\n",
    "\n",
    "\n",
    "options = {\"specify_target_noise\": True}\n",
    "vbmc = VBMC(\n",
    "    log_joint,\n",
    "    x0,\n",
    "    LB,\n",
    "    UB,\n",
    "    PLB,\n",
    "    PUB,\n",
    "    user_options=options,\n",
    ")\n",
    "\n",
    "\n",
    "np.random.seed(42)\n",
    "vp, elbo, elbo_sd, success_flag, results_dict = vbmc.optimize()\n",
    "\n",
    "\n",
    "with open(\"vbmc_noise_free.pkl\", \"rb\") as f:\n",
    "    vbmc_2 = dill.load(f)\n",
    "# KL divergence between this VP and the noise-free VP:\n",
    "vbmc.vp.kldiv(vp2=vbmc_2.vp)\n",
    "\n",
    "\n",
    "for vp in [vbmc.vp, vbmc_2.vp]:\n",
    "    samples, __ = vp.sample(1000)\n",
    "    plt.scatter(samples[:, 0], samples[:, 1], alpha=0.5, marker=\".\")"
   ]
  },
  {
   "cell_type": "markdown",
   "metadata": {},
   "source": [
    "## Acknowledgments\n",
    "\n",
    "Work on the `pyvbmc` package was funded by the [Finnish Center for Artificial Intelligence FCAI](https://fcai.fi/)."
   ]
  }
 ],
 "metadata": {
  "interpreter": {
   "hash": "cf2c3e35bb9d622e963fe7adafe5d3d77a0ee2382f730f35475e9a620896d84b"
  },
  "kernelspec": {
   "display_name": "Python 3 (ipykernel)",
   "language": "python",
   "name": "python3"
  },
  "language_info": {
   "codemirror_mode": {
    "name": "ipython",
    "version": 3
   },
   "file_extension": ".py",
   "mimetype": "text/x-python",
   "name": "python",
   "nbconvert_exporter": "python",
   "pygments_lexer": "ipython3",
   "version": "3.9.12"
  }
 },
 "nbformat": 4,
 "nbformat_minor": 2
}
