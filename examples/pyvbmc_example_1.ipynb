{
 "cells": [
  {
   "cell_type": "markdown",
   "metadata": {},
   "source": [
    "# Example 1: Basic usage"
   ]
  },
  {
   "cell_type": "markdown",
   "metadata": {},
   "source": [
    "In this introductory example, we will show a simple usage of Variational Bayesian Monte Carlo (VBMC) to perform Bayesian inference on a synthetic target.\n",
    "\n",
    "This notebook is Part 1 of a series of notebooks in which we present various example usages for VBMC with the `pyvbmc` package."
   ]
  },
  {
   "cell_type": "code",
   "execution_count": 1,
   "metadata": {},
   "outputs": [],
   "source": [
    "import numpy as np\n",
    "import scipy.stats as scs\n",
    "from pyvbmc.vbmc import VBMC"
   ]
  },
  {
   "cell_type": "markdown",
   "metadata": {},
   "source": [
    "## 0. What is the goal of VBMC?\n",
    "\n",
    "VBMC is an algorithm to efficiently perform Bayesian inference. We recall that the goal of Bayesian inference is to obtain the *posterior distribution* $p(\\mathbf{x}|\\mathcal{D})$  for a vector of model parameters $\\textbf{x}$ and data set $\\mathcal{D}$. The calculation involves [Bayes' theorem](https://en.wikipedia.org/wiki/Bayes%27_theorem):\n",
    "\n",
    "$$\n",
    "p(\\mathbf{x}|\\mathcal{D}) = \\frac{p(\\mathcal{D}|\\mathbf{x}) p(\\mathbf{x})}{p(\\mathcal{D})},\n",
    "$$\n",
    "\n",
    "where $p(\\mathcal{D}|\\mathbf{x})$ is the *likelihood*, $p(\\mathbf{x})$ is the *prior*, and $p(\\mathcal{D})$ is the normalization constant, also known as the *model evidence* or *marginal likelihood*.\n",
    "\n",
    "VBMC takes as input the unnormalized log posterior, or log (joint) density, $\\log p(\\mathcal{D}|\\mathbf{x}) p(\\mathbf{x})$ (also known as the *target*), and outputs: \n",
    "- a *variational posterior* $q(\\textbf{x}|\\mathcal{D})$ which is an (often very accurate) approximation of the true posterior;\n",
    "- an approximate lower bound to the log marginal likelihood, called ELBO (**e**vidence **l**ower **bo**und), and an estimate of its uncertainty;\n",
    "\n",
    "all using as few target evaluations as possible.\n",
    "In the following, we see how to set up and run VBMC on a toy example.\n",
    "\n",
    "## 1. Model definition: log likelihood, log prior, and log joint\n",
    "\n",
    "Normally, the log likelihood function $\\log p(\\mathcal{D}|\\mathbf{x})$ depends on the model under consideration, where $\\mathcal{D}$ is the data and $\\mathbf{x}$ is a vector of $D$ model parameters.\n",
    "For this example, we set as toy log likelihood for our model a broad [Rosenbrock's banana function](https://en.wikipedia.org/wiki/Rosenbrock_function) in $D = 2$. "
   ]
  },
  {
   "cell_type": "code",
   "execution_count": 2,
   "metadata": {},
   "outputs": [],
   "source": [
    "D = 2  # We consider a 2-D problem\n",
    "\n",
    "# Log likelihood of the model\n",
    "def llfun(x):\n",
    "    x = np.atleast_2d(x)\n",
    "    return -np.sum(\n",
    "        (x[0, :-1] ** 2.0 - x[0, 1:]) ** 2.0 + (x[0, :-1] - 1) ** 2.0 / 100\n",
    "    )\n",
    "\n",
    "\n",
    "# In general, llfun would depend on the data and define the log likelihood of *your* model"
   ]
  },
  {
   "cell_type": "markdown",
   "metadata": {},
   "source": [
    "We define now a prior $p(\\mathbf{x})$ over the parameters. For simplicity, we set an independent Gaussian prior on each variable, but you could use any prior of your choice. Note that VBMC uses the logarithm of the prior, $\\log p(\\mathbf{x})$. \n",
    "\n",
    "Since in this example the priors for each variable are independent, we compute the log prior separately for each variable and then sum them:\n",
    "\n",
    "$$\n",
    "\\log p(\\mathbf{x}) = \\log \\prod_{d = 1}^{D} p(x_d) = \\sum_{d = 1}^{D} \\log p(x_d).\n",
    "$$\n"
   ]
  },
  {
   "cell_type": "code",
   "execution_count": 3,
   "metadata": {},
   "outputs": [],
   "source": [
    "prior_mu = np.zeros((1, D))\n",
    "prior_std = 3 * np.ones((1, D))\n",
    "lpriorfun = lambda x: np.sum(scs.norm.logpdf(x, prior_mu, prior_std))"
   ]
  },
  {
   "cell_type": "markdown",
   "metadata": {},
   "source": [
    "The target log density `target` used by VBMC is the log joint, or unnormalized log posterior, defined as:\n",
    "\n",
    "$$\n",
    "\\log p(\\mathcal{D}, \\mathbf{x}) = \\log p(\\mathcal{D}| \\mathbf{x}) p(\\mathbf{x}) = \\log p(\\mathcal{D}| \\mathbf{x}) + \\log p(\\mathbf{x}).\n",
    "$$\n"
   ]
  },
  {
   "cell_type": "code",
   "execution_count": 4,
   "metadata": {},
   "outputs": [],
   "source": [
    "target = lambda x: llfun(x) + lpriorfun(x)"
   ]
  },
  {
   "cell_type": "markdown",
   "metadata": {},
   "source": [
    "## 2. Parameter setup: bounds and starting point\n",
    "\n",
    "We assume an unconstrained domain for the model parameters, that is $\\mathbf{x} \\in \\mathbb{R}^D$, specifying `-inf` and `inf` for the lower and upper bounds, respectively."
   ]
  },
  {
   "cell_type": "code",
   "execution_count": 5,
   "metadata": {},
   "outputs": [],
   "source": [
    "LB = np.full((1, D), -np.inf)  # Lower bounds\n",
    "UB = np.full((1, D), np.inf)  # Upper bounds"
   ]
  },
  {
   "cell_type": "markdown",
   "metadata": {},
   "source": [
    "VBMC also requires the user to specify so-called *plausible bounds* which should denote a region of high posterior probability mass. The plausible range is used to initialize some hyperparameters of the inference algorithm and guide the initial exploration of the posterior landscape, but it does not otherwise affect the model (although a good choice of plausible range can considerably improve convergence of the algorithm).\n",
    "\n",
    "Not knowing better, we use mean +/- 1 SD of the prior (that is, the top ~68% prior credible interval) to set the plausible bounds."
   ]
  },
  {
   "cell_type": "code",
   "execution_count": 6,
   "metadata": {},
   "outputs": [],
   "source": [
    "PLB = prior_mu - prior_std  # Plausible lower bounds\n",
    "PUB = prior_mu + prior_std  # Plausible upper bounds\n",
    "\n",
    "# Alternatively, you could set the plausible bounds using the quantiles:\n",
    "# PLB = scs.norm.ppf(0.1587, prior_mu, prior_std)\n",
    "# PUB = scs.norm.ppf(0.8413, prior_mu, prior_std)"
   ]
  },
  {
   "cell_type": "markdown",
   "metadata": {},
   "source": [
    "As a starting point $\\mathbf{x}_0$ for the algorithm, we use the mean of the prior:"
   ]
  },
  {
   "cell_type": "code",
   "execution_count": 7,
   "metadata": {},
   "outputs": [],
   "source": [
    "x0 = np.copy(prior_mu)\n",
    "\n",
    "# Alternatively, we could use a random sample from inside the plausible box:\n",
    "# x0 = PLB + np.random.uniform(size=(1,D))*(PUB - PLB)"
   ]
  },
  {
   "cell_type": "markdown",
   "metadata": {},
   "source": [
    "## 3. Initialize and run inference\n",
    "\n",
    "We now initialize the `vbmc` object which takes care of the inference. For now, we use default options."
   ]
  },
  {
   "cell_type": "code",
   "execution_count": 8,
   "metadata": {},
   "outputs": [],
   "source": [
    "vbmc = VBMC(target, x0, LB, UB, PLB, PUB)"
   ]
  },
  {
   "cell_type": "markdown",
   "metadata": {},
   "source": [
    "To perform inference, we run `vbmc.optimize()`.\n",
    "\n",
    "The algorithm returns the variational posterior `vp`, the lower bound on the log model evidence `elbo`, and its uncertainty `elbo_sd`.\n",
    "The output trace of VBMC provides a lot of information, which we will analyze in a subsequent notebook."
   ]
  },
  {
   "cell_type": "code",
   "execution_count": 9,
   "metadata": {},
   "outputs": [
    {
     "name": "stdout",
     "output_type": "stream",
     "text": [
      "Beginning variational optimization assuming EXACT observations of the log-joint.\n",
      " Iteration  f-count    Mean[ELBO]    Std[ELBO]    sKL-iter[q]   K[q]  Convergence  Action\n",
      "     0         10          -3.10         1.30      6443.65        2        inf     start warm-up\n",
      "     1         15          -1.86         1.24         3.32        2        inf     \n",
      "     2         20          -2.80         0.02         2.76        2       68.3     \n",
      "     3         25          -2.79         0.00         0.01        2      0.345     \n",
      "     4         30          -2.80         0.00         0.01        2      0.175     end warm-up\n",
      "     5         35          -2.79         0.00         0.00        2      0.133     \n",
      "     6         40          -2.79         0.00         0.01        2      0.183     \n",
      "     7         45          -2.46         0.00         0.40        5       10.4     \n",
      "     8         50          -2.43         0.00         0.00        6      0.179     \n",
      "     9         55          -2.35         0.00         0.02        9      0.635     rotoscale, undo rotoscale\n",
      "    10         60          -2.32         0.00         0.02       12      0.643     \n",
      "    11         65          -2.31         0.00         0.01       15      0.167     \n",
      "    12         70          -2.29         0.00         0.00       17      0.077     \n",
      "    13         75          -2.29         0.00         0.00       18     0.0243     stable\n",
      "   inf         75          -2.28         0.00         0.00       50     0.0243     finalize\n",
      "Inference terminated: variational solution stable for options.tol_stable_count fcn evaluations.\n",
      "Estimated ELBO: -2.280 +/-0.000.\n"
     ]
    }
   ],
   "source": [
    "vp, elbo, elbo_sd, _, _ = vbmc.optimize()"
   ]
  },
  {
   "cell_type": "code",
   "execution_count": 10,
   "metadata": {},
   "outputs": [
    {
     "name": "stdout",
     "output_type": "stream",
     "text": [
      "The true log model evidence is: -2.272\n",
      "The obtained ELBO is: -2.280\n",
      "The obtained ELBO_SD is: 0.000\n"
     ]
    }
   ],
   "source": [
    "lml_true = -2.272  # ground truth, which we know for this toy scenario\n",
    "\n",
    "print(\"The true log model evidence is:\", lml_true)\n",
    "print(\"The obtained ELBO is:\", format(elbo, \".3f\"))\n",
    "print(\"The obtained ELBO_SD is:\", format(elbo_sd, \".3f\"))"
   ]
  },
  {
   "cell_type": "markdown",
   "metadata": {},
   "source": [
    "### Remarks:\n",
    "- The ELBO is a *lower bound* on the true log model evidence $\\log p(\\mathcal{D})$. The better the approximation of the posterior, the closer the ELBO is to the true log model evidence.\n",
    "- VBMC does not aim for high numerical precision of the ELBO (e.g., beyond the 1st or 2nd decimal place). In most realistic model-fitting problems, a higher resolution is not necessary.\n",
    "- The reported standard deviation of the ELBO, `elbo_sd`, is a measure of the uncertainty on the ELBO as estimated via Bayesian quadrature (the approximation technique used by VBMC). `elbo_sd` is **not** a measure of the difference between the ELBO and the true log model evidence, which is generally unknown. "
   ]
  },
  {
   "cell_type": "markdown",
   "metadata": {},
   "source": [
    "## 4. Examine and visualize results\n",
    "\n",
    "We now examine the obtained variational posterior. We can instantly draw hundreds of thousands of random samples from the variational posterior to compute summary statistics of interests.\n",
    "\n",
    "For reporting uncertainty on model parameter estimates, you could use posterior mean +/- SD, or the median and interquartile range of the samples (the latter is better for a posterior that deviates substantially from Gaussian)."
   ]
  },
  {
   "cell_type": "code",
   "execution_count": 11,
   "metadata": {},
   "outputs": [
    {
     "name": "stdout",
     "output_type": "stream",
     "text": [
      "The approximate posterior mean is: [0.02265976 1.16620726]\n",
      "The approximate posterior covariance matrix is:\n",
      " [[1.23450219 0.03723087]\n",
      " [0.03723087 2.05268584]]\n"
     ]
    }
   ],
   "source": [
    "# First, generate a large number of samples from the variational posterior:\n",
    "n_samples = int(3e5)\n",
    "Xs, _ = vp.sample(n_samples)\n",
    "\n",
    "# Easily compute statistics such as moments, credible intervals, etc.\n",
    "post_mean = np.mean(Xs, axis=0)  # Posterior mean\n",
    "post_cov = np.cov(Xs.T)  # Posterior covariance matrix\n",
    "print(\"The approximate posterior mean is:\", post_mean)\n",
    "print(\"The approximate posterior covariance matrix is:\\n\", post_cov)"
   ]
  },
  {
   "cell_type": "markdown",
   "metadata": {},
   "source": [
    "Finally, we visualize the obtained variational approximation `vp` via the `vp.plot()` function, which is based on the beautiful `corner.py` module (see [here](https://corner.readthedocs.io/en/latest/))."
   ]
  },
  {
   "cell_type": "code",
   "execution_count": 12,
   "metadata": {},
   "outputs": [
    {
     "data": {
      "image/png": "[encoded data removed]",
      "text/plain": [
       "<Figure size 600x600 with 4 Axes>"
      ]
     },
     "metadata": {},
     "output_type": "display_data"
    }
   ],
   "source": [
    "_ = vp.plot()"
   ]
  },
  {
   "cell_type": "markdown",
   "metadata": {},
   "source": [
    "The figure represents the multidimensional variational posterior `vp` via one- and two-dimensional marginal plots for each variable and pairs of variables.\n",
    "\n",
    "Here, the bottom-left panel represents the two-dimensional joint distribution of $x_1$ and $x_2$, whereas the two panels on the diagonal represent the one-dimensional marginal distributions of $x_1$ and $x_2$, respectively. Note that VBMC has managed to approximate very well the highly non-Gaussian shape of the target density."
   ]
  },
  {
   "cell_type": "markdown",
   "metadata": {},
   "source": [
    "## 5. Conclusions\n",
    "\n",
    "In this notebook, we have seen how to set up and run Bayesian inference with VBMC with a fairly minimal example.\n",
    "\n",
    "An important step which is not considered in this example is a thorough validation of the results and diagnostics, which will be discussed in a later notebook.\n",
    "\n",
    "The next notebook will look more in detail at the output trace and plots of VBMC, which is a good starting point to check how inference is proceeding."
   ]
  },
  {
   "cell_type": "markdown",
   "metadata": {},
   "source": [
    "## Example 1: full code\n",
    "\n",
    "The following cell includes in a single place all the code used in Example 1, without the extra fluff."
   ]
  },
  {
   "cell_type": "code",
   "execution_count": 14,
   "metadata": {},
   "outputs": [
    {
     "ename": "AssertionError",
     "evalue": "",
     "output_type": "error",
     "traceback": [
      "\u001b[0;31m---------------------------------------------------------------------------\u001b[0m",
      "\u001b[0;31mAssertionError\u001b[0m                            Traceback (most recent call last)",
      "Cell \u001b[0;32mIn [14], line 1\u001b[0m\n\u001b[0;32m----> 1\u001b[0m \u001b[38;5;28;01massert\u001b[39;00m \u001b[38;5;28;01mFalse\u001b[39;00m  \u001b[38;5;66;03m# skip this cell\u001b[39;00m\n\u001b[1;32m      3\u001b[0m \u001b[38;5;28;01mimport\u001b[39;00m \u001b[38;5;21;01mnumpy\u001b[39;00m \u001b[38;5;28;01mas\u001b[39;00m \u001b[38;5;21;01mnp\u001b[39;00m\n\u001b[1;32m      4\u001b[0m \u001b[38;5;28;01mimport\u001b[39;00m \u001b[38;5;21;01mscipy\u001b[39;00m\u001b[38;5;21;01m.\u001b[39;00m\u001b[38;5;21;01mstats\u001b[39;00m \u001b[38;5;28;01mas\u001b[39;00m \u001b[38;5;21;01mscs\u001b[39;00m\n",
      "\u001b[0;31mAssertionError\u001b[0m: "
     ]
    }
   ],
   "source": [
    "assert False  # skip this cell\n",
    "\n",
    "import numpy as np\n",
    "import scipy.stats as scs\n",
    "from pyvbmc.vbmc import VBMC\n",
    "\n",
    "\n",
    "D = 2  # We consider a 2-D problem\n",
    "\n",
    "# Log likelihood of the model\n",
    "def llfun(x):\n",
    "    x = np.atleast_2d(x)\n",
    "    return -np.sum(\n",
    "        (x[0, :-1] ** 2.0 - x[0, 1:]) ** 2.0 + (x[0, :-1] - 1) ** 2.0 / 100\n",
    "    )\n",
    "\n",
    "\n",
    "# In general, llfun would depend on the data and define the log likelihood of *your* model\n",
    "\n",
    "\n",
    "prior_mu = np.zeros((1, D))\n",
    "prior_std = 3 * np.ones((1, D))\n",
    "lpriorfun = lambda x: np.sum(scs.norm.logpdf(x, prior_mu, prior_std))\n",
    "\n",
    "\n",
    "target = lambda x: llfun(x) + lpriorfun(x)\n",
    "\n",
    "\n",
    "LB = np.full((1, D), -np.inf)  # Lower bounds\n",
    "UB = np.full((1, D), np.inf)  # Upper bounds\n",
    "\n",
    "\n",
    "PLB = prior_mu - prior_std  # Plausible lower bounds\n",
    "PUB = prior_mu + prior_std  # Plausible upper bounds\n",
    "\n",
    "# Alternatively, you could set the plausible bounds using the quantiles:\n",
    "# PLB = scs.norm.ppf(0.1587, prior_mu, prior_std)\n",
    "# PUB = scs.norm.ppf(0.8413, prior_mu, prior_std)\n",
    "\n",
    "\n",
    "x0 = np.copy(prior_mu)\n",
    "\n",
    "# Alternatively, we could use a random sample from inside the plausible box:\n",
    "# x0 = PLB + np.random.uniform(size=(1,D))*(PUB - PLB)\n",
    "\n",
    "\n",
    "vbmc = VBMC(target, x0, LB, UB, PLB, PUB)\n",
    "\n",
    "\n",
    "vp, elbo, elbo_sd, _, _ = vbmc.optimize()\n",
    "\n",
    "\n",
    "lml_true = -2.272  # ground truth, which we know for this toy scenario\n",
    "\n",
    "print(\"The true log model evidence is:\", lml_true)\n",
    "print(\"The obtained ELBO is:\", format(elbo, \".3f\"))\n",
    "print(\"The obtained ELBO_SD is:\", format(elbo_sd, \".3f\"))\n",
    "\n",
    "\n",
    "# First, generate a large number of samples from the variational posterior:\n",
    "n_samples = int(3e5)\n",
    "Xs, _ = vp.sample(n_samples)\n",
    "\n",
    "# Easily compute statistics such as moments, credible intervals, etc.\n",
    "post_mean = np.mean(Xs, axis=0)  # Posterior mean\n",
    "post_cov = np.cov(Xs.T)  # Posterior covariance matrix\n",
    "print(\"The approximate posterior mean is:\", post_mean)\n",
    "print(\"The approximate posterior covariance matrix is:\\n\", post_cov)\n",
    "\n",
    "\n",
    "_ = vp.plot()"
   ]
  },
  {
   "cell_type": "markdown",
   "metadata": {},
   "source": [
    "## Acknowledgments\n",
    "\n",
    "Work on the `pyvbmc` package was funded by the [Finnish Center for Artificial Intelligence FCAI](https://fcai.fi/)."
   ]
  }
 ],
 "metadata": {
  "interpreter": {
   "hash": "cf2c3e35bb9d622e963fe7adafe5d3d77a0ee2382f730f35475e9a620896d84b"
  },
  "kernelspec": {
   "display_name": "Python 3 (ipykernel)",
   "language": "python",
   "name": "python3"
  },
  "language_info": {
   "codemirror_mode": {
    "name": "ipython",
    "version": 3
   },
   "file_extension": ".py",
   "mimetype": "text/x-python",
   "name": "python",
   "nbconvert_exporter": "python",
   "pygments_lexer": "ipython3",
   "version": "3.9.13"
  }
 },
 "nbformat": 4,
 "nbformat_minor": 2
}
