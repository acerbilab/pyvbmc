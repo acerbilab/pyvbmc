{
 "cells": [
  {
   "cell_type": "markdown",
   "metadata": {},
   "source": [
    "# Examples and tutorial for Variational Bayesian Monte Carlo"
   ]
  },
  {
   "cell_type": "code",
   "execution_count": 1,
   "metadata": {},
   "outputs": [],
   "source": [
    "import numpy as np\n",
    "from pyvbmc.vbmc import VBMC"
   ]
  },
  {
   "cell_type": "markdown",
   "metadata": {},
   "source": [
    "## Example 1: Basic usage\n",
    "Simple usage of VBMC having as target log likelihood <a href=\"https://en.wikipedia.org/wiki/Rosenbrock_function\">Rosenbrock''s banana function</a>."
   ]
  },
  {
   "cell_type": "code",
   "execution_count": 2,
   "metadata": {},
   "outputs": [],
   "source": [
    "# We consider a 2-D problem\n",
    "D = 2"
   ]
  },
  {
   "cell_type": "markdown",
   "metadata": {},
   "source": [
    "We set as toy log likelihood for our model a broad Rosenbrock's banana function in 2D (see https://en.wikipedia.org/wiki/Rosenbrock_function)."
   ]
  },
  {
   "cell_type": "code",
   "execution_count": 3,
   "metadata": {},
   "outputs": [],
   "source": [
    "# log likelihood of your model\n",
    "def llfun(x):\n",
    "    x = np.atleast_2d(x)\n",
    "    return -np.sum(\n",
    "                (x[0, :-1] ** 2.0 - x[0, 1:]) ** 2.0\n",
    "                + (x[0, :-1] - 1) ** 2.0 / 100\n",
    "            )"
   ]
  },
  {
   "cell_type": "markdown",
   "metadata": {},
   "source": [
    "We define now a prior over the parameters (for simplicity, independent Gaussian prior on each variable, but you could do whatever)."
   ]
  },
  {
   "cell_type": "code",
   "execution_count": 4,
   "metadata": {},
   "outputs": [],
   "source": [
    "prior_mu = np.zeros((1,D))\n",
    "prior_var = 3**2*np.ones((1,D))\n",
    "lpriorfun = lambda x: (-0.5*np.sum((x-prior_mu)**2 / prior_var,axis=1)\n",
    "                        -0.5*np.log(np.prod(2*np.pi*prior_var)))"
   ]
  },
  {
   "cell_type": "markdown",
   "metadata": {},
   "source": [
    "So our log joint (that is, unnormalized log posterior density), is:"
   ]
  },
  {
   "cell_type": "code",
   "execution_count": 5,
   "metadata": {},
   "outputs": [],
   "source": [
    "fun = lambda x: llfun(x) + lpriorfun(x)"
   ]
  },
  {
   "cell_type": "markdown",
   "metadata": {},
   "source": [
    "We assume an unconstrained domain for the model parameters, and finite plausible bounds which should denote a region of high posterior  probability mass. Not knowing better, we use mean +/- 1 SD of the prior (that is, the top ~68% prior credible interval) to set plausible bounds."
   ]
  },
  {
   "cell_type": "code",
   "execution_count": 6,
   "metadata": {},
   "outputs": [],
   "source": [
    "LB = -np.full((1,D), np.inf)                 # Lower bounds\n",
    "UB = np.full((1,D), np.inf)                  # Upper bounds\n",
    "PLB = prior_mu - np.sqrt(prior_var)          # Plausible lower bounds\n",
    "PUB = prior_mu + np.sqrt(prior_var)          # Plausible upper bounds"
   ]
  },
  {
   "cell_type": "markdown",
   "metadata": {},
   "source": [
    "Analogously, you could set the plausible bounds using the quantiles:\n",
    "```\n",
    "from scipy.stats import norm\n",
    "PLB = norm.ppf(0.1587,prior_mu,np.sqrt(prior_var))\n",
    "PUB = norm.ppf(0.8413,prior_mu,np.sqrt(prior_var))\n",
    "```"
   ]
  },
  {
   "cell_type": "code",
   "execution_count": 7,
   "metadata": {},
   "outputs": [],
   "source": [
    "# As a starting point, we use the mean of the prior:\n",
    "x0 = np.copy(prior_mu)"
   ]
  },
  {
   "cell_type": "markdown",
   "metadata": {},
   "source": [
    "Alternatively, we could have used a sample from inside the plausible box:\n",
    "```\n",
    "x0 = PLB + np.random.uniform(size=(1,D))*(PUB - PLB)\n",
    "```"
   ]
  },
  {
   "cell_type": "markdown",
   "metadata": {},
   "source": [
    "We now initialize the VBMC object.  For now, we use default options for the inference."
   ]
  },
  {
   "cell_type": "code",
   "execution_count": 8,
   "metadata": {},
   "outputs": [],
   "source": [
    "vbmc = VBMC(fun, x0, LB, UB, PLB, PUB)"
   ]
  },
  {
   "cell_type": "markdown",
   "metadata": {},
   "source": [
    "Run vbmc.optimize(), which returns the variational posterior VP, the lower bound on the log model evidence ELBO, and its uncertainty ELBO_SD."
   ]
  },
  {
   "cell_type": "code",
   "execution_count": 9,
   "metadata": {},
   "outputs": [
    {
     "name": "stdout",
     "output_type": "stream",
     "text": [
      "Beginning variational optimization assuming EXACT observations of the log-joint.\n",
      " Iteration  f-count    Mean[ELBO]    Std[ELBO]    sKL-iter[q]   K[q]  Convergence  Action\n",
      "     0         10          53.77       172.40    143005.52        2        inf     start warm-up\n",
      "     1         15          -2.59         0.64         7.46        2        inf     \n",
      "     2         20          -2.80         0.02         1.12        2       27.1     \n",
      "     3         25          -2.79         0.00         0.01        2       0.31     \n",
      "     4         30          -2.79         0.00         0.00        2     0.0434     end warm-up\n",
      "     5         35          -2.79         0.02         0.00        2     0.0669     \n",
      "     6         40          -2.78         0.00         0.01        2      0.199     \n",
      "     7         45          -2.58         0.00         0.16        5       4.46     \n",
      "     8         50          -2.49         0.00         0.06        6       1.78     \n",
      "     9         55          -2.43         0.00         0.01        7      0.455     \n",
      "    10         60          -2.37         0.00         0.00       10      0.298     \n",
      "    11         65          -2.36         0.00         0.00       13      0.049     \n",
      "    12         70          -2.35         0.00         0.00       15      0.068     \n",
      "    13         75          -2.34         0.00         0.00       15     0.0503     \n",
      "    14         80          -2.34         0.00         0.00       15     0.0347     stable\n",
      "   inf         80          -2.35         0.00         0.00       50     0.0347     finalize\n",
      "Inference terminated: variational solution stable for options.tolstablecountfcn evaluations.\n",
      "Estimated ELBO: -2.347 +/-0.001.\n",
      "Caution: Returned variational solution may have not converged.\n"
     ]
    }
   ],
   "source": [
    "vp, elbo, elbo_sd, _, _ = vbmc.optimize()"
   ]
  },
  {
   "cell_type": "markdown",
   "metadata": {},
   "source": [
    "The true log model evidence is lnZ = -2.272.\n",
    "Note that:\n",
    "1) The ELBO is a lower bound on the true log model evidence.\n",
    "2) The reported standard deviation of the ELBO is a measure of the uncertainty on the ELBO as estimated via Bayesian quadrature (the approximation technique used by VBMC). It is NOT a measure of the difference between the ELBO and the true log model evidence,which is generally unknown. "
   ]
  },
  {
   "cell_type": "code",
   "execution_count": 10,
   "metadata": {},
   "outputs": [
    {
     "name": "stdout",
     "output_type": "stream",
     "text": [
      "The obtained ELBO is: -2.346802892976596\n",
      "The obtained ELBO_SD is: 0.0009230296992443863\n"
     ]
    }
   ],
   "source": [
    "print(\"The obtained ELBO is:\", elbo)\n",
    "print(\"The obtained ELBO_SD is:\", elbo_sd)"
   ]
  },
  {
   "cell_type": "markdown",
   "metadata": {},
   "source": [
    "Note that VBMC does not aim for high numerical precision (e.g., beyond the 1st or 2nd decimal place). In most realistic model-fitting problems, a higher resolution is not particularly useful."
   ]
  },
  {
   "cell_type": "markdown",
   "metadata": {},
   "source": [
    "We can now examine the obtained variational posterior."
   ]
  },
  {
   "cell_type": "code",
   "execution_count": 11,
   "metadata": {},
   "outputs": [],
   "source": [
    "# First, let us generate a million samples from the variational posterior:\n",
    "n_samples = int(3e5)\n",
    "Xs, _ = vp.sample(n_samples)"
   ]
  },
  {
   "cell_type": "code",
   "execution_count": 12,
   "metadata": {},
   "outputs": [
    {
     "name": "stdout",
     "output_type": "stream",
     "text": [
      "The approximate posterior mean is: [9.46547591e-06 9.25149853e-01]\n",
      "The approximate posterior covariance matrix is\n",
      " [[ 1.00491568 -0.00488234]\n",
      " [-0.00488234  1.28644569]]\n"
     ]
    }
   ],
   "source": [
    "# Easily compute statistics such as moments, credible intervals, etc.\n",
    "post_mean = np.mean(Xs,axis=0)             # Posterior mean\n",
    "post_cov = np.cov(Xs.T)                    # Posterior covariance matrix\n",
    "print(\"The approximate posterior mean is:\", post_mean)\n",
    "print(\"The approximate posterior covariance matrix is\\n\", post_cov)"
   ]
  },
  {
   "cell_type": "markdown",
   "metadata": {},
   "source": [
    "For reporting uncertainty on model parameter estimates, you could use posterior mean +/- SD, or the median and interquartile range (the latter is better for a posterior that deviates substantially from Gaussian)."
   ]
  },
  {
   "cell_type": "code",
   "execution_count": 13,
   "metadata": {},
   "outputs": [
    {
     "data": {
      "image/png": "[encoded data removed]",
      "text/plain": [
       "<Figure size 550x550 with 4 Axes>"
      ]
     },
     "metadata": {},
     "output_type": "display_data"
    }
   ],
   "source": [
    "# We visualize the posterior marginals using the CORNERPLOT function:\n",
    "import matplotlib.pyplot as plt\n",
    "import corner\n",
    "\n",
    "# plot all sampled points\n",
    "plt.rcParams['agg.path.chunksize'] = n_samples\n",
    "\n",
    "figure = corner.corner(Xs)\n",
    "corner.corner(Xs, fig=figure, labels=['$x_1$', '$x_2$'])\n",
    "plt.show()"
   ]
  },
  {
   "cell_type": "markdown",
   "metadata": {},
   "source": [
    "## Example 2: Bound parameters\n",
    "As in Example 1, but we assume parameters are constrained to be positive. We also display the evolution of the variational posterior in each iteration.\n",
    "\n",
    "*(In the plots, black circles represent points in the training set,and red circles points added to the training set in this iteration.)*"
   ]
  },
  {
   "cell_type": "code",
   "execution_count": 14,
   "metadata": {},
   "outputs": [],
   "source": [
    "# log likelihood (rosenbrock)\n",
    "def llfun(x):\n",
    "    x = np.atleast_2d(x)\n",
    "    return -np.sum(\n",
    "                (x[0, :-1] ** 2.0 - x[0, 1:]) ** 2.0\n",
    "                + (x[0, :-1] - 1) ** 2.0 / 100\n",
    "            )\n",
    "\n",
    "# still in 2-D\n",
    "D = 2"
   ]
  },
  {
   "cell_type": "markdown",
   "metadata": {},
   "source": [
    "Since parameters are positive, we impose an exponential prior."
   ]
  },
  {
   "cell_type": "code",
   "execution_count": 15,
   "metadata": {},
   "outputs": [],
   "source": [
    "prior_tau = 3*np.ones((1,D))            # Length scale of the exponential prior\n",
    "lpriorfun = lambda x: -np.sum(x/prior_tau, axis=1) -np.log(np.prod(prior_tau))\n",
    "\n",
    "# Log joint\n",
    "fun = lambda x: llfun(x) + lpriorfun(x)        "
   ]
  },
  {
   "cell_type": "markdown",
   "metadata": {},
   "source": [
    "Bound settings require some discussion:\n",
    "1) the specified bounds are **NOT** included in the domain, so in this case, \n",
    "   since we want to be the parameters to be positive, we can set LB = 0, \n",
    "   knowing that the parameter will always be greater than zero."
   ]
  },
  {
   "cell_type": "code",
   "execution_count": 16,
   "metadata": {},
   "outputs": [],
   "source": [
    "LB = np.zeros((1,D))                           # Lower bounds"
   ]
  },
  {
   "cell_type": "markdown",
   "metadata": {},
   "source": [
    "2) Currently, VBMC does not support half-bounds, so we need to specify\n",
    "    a finite upper bound (cannot be Inf). We pick something very large\n",
    "    according to our prior. However, do not go crazy here by picking \n",
    "    something impossibly large, otherwise VBMC will fail."
   ]
  },
  {
   "cell_type": "code",
   "execution_count": 17,
   "metadata": {},
   "outputs": [],
   "source": [
    "UB = 10*prior_tau                              # Upper bounds"
   ]
  },
  {
   "cell_type": "markdown",
   "metadata": {},
   "source": [
    "3) Plausible bounds need to be meaningfully different from hard bounds,\n",
    "so here we cannot pick PLB = 0. We follow the same strategy as the first\n",
    "   example, by picking the top ~68% credible interval of the prior."
   ]
  },
  {
   "cell_type": "code",
   "execution_count": 18,
   "metadata": {},
   "outputs": [],
   "source": [
    "PLB = 0.1728*prior_tau         # PLB = expinv(0.1587,prior_tau)\n",
    "PUB = 1.8407*prior_tau         # PUB = expinv(0.8413,prior_tau)"
   ]
  },
  {
   "cell_type": "markdown",
   "metadata": {},
   "source": [
    "Good practice is to initialize VBMC in a region of high posterior density. For this example, we cheat and start in the proximity of the mode, which is near the optimum of the likelihood (which we know)."
   ]
  },
  {
   "cell_type": "code",
   "execution_count": 19,
   "metadata": {},
   "outputs": [],
   "source": [
    "x0 = np.ones((1,D))             # Optimum of the Rosenbrock function"
   ]
  },
  {
   "cell_type": "code",
   "execution_count": 20,
   "metadata": {},
   "outputs": [],
   "source": [
    "# init VBMC\n",
    "user_options = {\"plot\": True}\n",
    "vbmc = VBMC(fun, x0, LB, UB, PLB, PUB, user_options)"
   ]
  },
  {
   "cell_type": "code",
   "execution_count": 21,
   "metadata": {},
   "outputs": [],
   "source": [
    "# run VBMC\n",
    "#vp, elbo, elbo_sd, _, _ = vbmc.optimize()"
   ]
  },
  {
   "cell_type": "markdown",
   "metadata": {},
   "source": [
    "The true log model evidence is lnZ = -1.836.\n",
    "\n",
    "We will examine now the obtained variational posterior."
   ]
  },
  {
   "cell_type": "code",
   "execution_count": null,
   "metadata": {},
   "outputs": [],
   "source": []
  }
 ],
 "metadata": {
  "interpreter": {
   "hash": "cf2c3e35bb9d622e963fe7adafe5d3d77a0ee2382f730f35475e9a620896d84b"
  },
  "kernelspec": {
   "display_name": "Python 3.9.5 64-bit ('gpyreg': conda)",
   "name": "python3"
  },
  "language_info": {
   "codemirror_mode": {
    "name": "ipython",
    "version": 3
   },
   "file_extension": ".py",
   "mimetype": "text/x-python",
   "name": "python",
   "nbconvert_exporter": "python",
   "pygments_lexer": "ipython3",
   "version": "3.9.5"
  },
  "orig_nbformat": 4
 },
 "nbformat": 4,
 "nbformat_minor": 2
}
